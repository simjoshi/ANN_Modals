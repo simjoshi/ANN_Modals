{
 "cells": [
  {
   "cell_type": "code",
   "execution_count": 1,
   "metadata": {
    "id": "UYmbubip3VCu"
   },
   "outputs": [],
   "source": [
    "import pandas as pd\n",
    "import numpy as np\n",
    "import matplotlib.pyplot as plt\n",
    "import seaborn as sns\n",
    "from sklearn.model_selection import train_test_split s\n",
    "from sklearn.neural_network import MLPClassifier"
   ]
  },
  {
   "cell_type": "code",
   "execution_count": 2,
   "metadata": {
    "id": "f0Gs0uJS3Ydy"
   },
   "outputs": [],
   "source": [
    "dataframe = pd.read_csv(\"car.data\")"
   ]
  },
  {
   "cell_type": "code",
   "execution_count": 3,
   "metadata": {
    "id": "AYnAKLo13e2V"
   },
   "outputs": [],
   "source": [
    "dataframe.columns = ['buying','maint','doors','persons','lug_boot','safety','classes']\n",
    "\n",
    "# Encode Data\n",
    "dataframe.buying.replace(('vhigh','high','med','low'),(1,2,3,4), inplace=True)\n",
    "dataframe.maint.replace(('vhigh','high','med','low'),(1,2,3,4), inplace=True)\n",
    "dataframe.doors.replace(('2','3','4','5more'),(1,2,3,4), inplace=True)\n",
    "dataframe.persons.replace(('2','4','more'),(1,2,3), inplace=True)\n",
    "dataframe.lug_boot.replace(('small','med','big'),(1,2,3), inplace=True)\n",
    "dataframe.safety.replace(('low','med','high'),(1,2,3), inplace=True)\n",
    "dataframe.classes.replace(('unacc','acc','good','vgood'),(1,2,3,4), inplace=True)"
   ]
  },
  {
   "cell_type": "code",
   "execution_count": 4,
   "metadata": {
    "id": "j6ec0Rqd3oGw"
   },
   "outputs": [],
   "source": [
    "X=dataframe.iloc[:,0:6]\n",
    "y = dataframe.iloc[:,6]"
   ]
  },
  {
   "cell_type": "code",
   "execution_count": 5,
   "metadata": {
    "id": "aVqysBCK3sby"
   },
   "outputs": [],
   "source": [
    "X_train,X_test,y_train,y_test = train_test_split(X,y,test_size=0.3,random_state=1)"
   ]
  },
  {
   "cell_type": "code",
   "execution_count": 6,
   "metadata": {
    "id": "jMMN4dL63v6o"
   },
   "outputs": [],
   "source": [
    "mlp=MLPClassifier(hidden_layer_sizes=(10, 10, 10), max_iter=1000)"
   ]
  },
  {
   "cell_type": "code",
   "execution_count": 7,
   "metadata": {
    "colab": {
     "base_uri": "https://localhost:8080/"
    },
    "id": "GIImvQfl30B8",
    "outputId": "dd9a0a01-e44c-4a72-ea8e-23424113e7f9"
   },
   "outputs": [
    {
     "data": {
      "text/plain": [
       "MLPClassifier(hidden_layer_sizes=(10, 10, 10), max_iter=1000)"
      ]
     },
     "execution_count": 7,
     "metadata": {},
     "output_type": "execute_result"
    }
   ],
   "source": [
    "mlp.fit(X_train, y_train.ravel())"
   ]
  },
  {
   "cell_type": "code",
   "execution_count": 8,
   "metadata": {
    "id": "rI8seQCe321p"
   },
   "outputs": [],
   "source": [
    "predictions=mlp.predict(X_test)"
   ]
  },
  {
   "cell_type": "code",
   "execution_count": 9,
   "metadata": {
    "id": "_bM3SdJk38Pj"
   },
   "outputs": [],
   "source": [
    "from sklearn.metrics import confusion_matrix"
   ]
  },
  {
   "cell_type": "code",
   "execution_count": 11,
   "metadata": {
    "colab": {
     "base_uri": "https://localhost:8080/"
    },
    "id": "lwh2i5864Fxq",
    "outputId": "824ea6ce-e7f1-41f6-af60-a923771b1f42"
   },
   "outputs": [
    {
     "data": {
      "text/plain": [
       "array([[348,   8,   0,   0],\n",
       "       [  2, 107,   5,   1],\n",
       "       [  0,   1,  20,   0],\n",
       "       [  0,   4,   4,  19]])"
      ]
     },
     "execution_count": 11,
     "metadata": {},
     "output_type": "execute_result"
    }
   ],
   "source": [
    "cm_ann = confusion_matrix(y_test, predictions)\n",
    "cm_ann"
   ]
  },
  {
   "cell_type": "code",
   "execution_count": 12,
   "metadata": {
    "colab": {
     "base_uri": "https://localhost:8080/"
    },
    "id": "VIhRcdvb4Ogy",
    "outputId": "ead1d5e6-3286-412c-eeee-5dc1d020913c"
   },
   "outputs": [
    {
     "data": {
      "text/plain": [
       "(0.9775280898876404, 0.7648351648351648)"
      ]
     },
     "execution_count": 12,
     "metadata": {},
     "output_type": "execute_result"
    }
   ],
   "source": [
    "recall_ann = cm_ann[0][0]/(cm_ann[0][0] + cm_ann[0][1])\n",
    "precision_ann = cm_ann[0][0]/(cm_ann[0][0]+cm_ann[1][1])\n",
    "recall_ann,precision_ann"
   ]
  },
  {
   "cell_type": "code",
   "execution_count": null,
   "metadata": {
    "id": "jqhaB0Pd4O_J"
   },
   "outputs": [],
   "source": []
  }
 ],
 "metadata": {
  "colab": {
   "provenance": []
  },
  "kernelspec": {
   "display_name": "Python 3",
   "language": "python",
   "name": "python3"
  },
  "language_info": {
   "codemirror_mode": {
    "name": "ipython",
    "version": 3
   },
   "file_extension": ".py",
   "mimetype": "text/x-python",
   "name": "python",
   "nbconvert_exporter": "python",
   "pygments_lexer": "ipython3",
   "version": "3.8.8"
  }
 },
 "nbformat": 4,
 "nbformat_minor": 1
}
