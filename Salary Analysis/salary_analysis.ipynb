{
 "cells": [
  {
   "cell_type": "markdown",
   "id": "1e01c7ef",
   "metadata": {},
   "source": [
    "# Reading the Dataset"
   ]
  },
  {
   "cell_type": "code",
   "execution_count": 51,
   "id": "60cf2b07",
   "metadata": {},
   "outputs": [],
   "source": [
    "import numpy as np\n",
    "import pandas as pd\n",
    "import matplotlib.pyplot as plt\n",
    "import seaborn as sns\n",
    "\n",
    "from sklearn.metrics import classification_report\n",
    "from sklearn.metrics import confusion_matrix"
   ]
  },
  {
   "cell_type": "code",
   "execution_count": 52,
   "id": "f66b83cc",
   "metadata": {},
   "outputs": [],
   "source": [
    "data = pd.read_csv('salaries.csv')"
   ]
  },
  {
   "cell_type": "code",
   "execution_count": 53,
   "id": "0038bc88",
   "metadata": {},
   "outputs": [
    {
     "data": {
      "text/html": [
       "<div>\n",
       "<style scoped>\n",
       "    .dataframe tbody tr th:only-of-type {\n",
       "        vertical-align: middle;\n",
       "    }\n",
       "\n",
       "    .dataframe tbody tr th {\n",
       "        vertical-align: top;\n",
       "    }\n",
       "\n",
       "    .dataframe thead th {\n",
       "        text-align: right;\n",
       "    }\n",
       "</style>\n",
       "<table border=\"1\" class=\"dataframe\">\n",
       "  <thead>\n",
       "    <tr style=\"text-align: right;\">\n",
       "      <th></th>\n",
       "      <th>work_year</th>\n",
       "      <th>experience_level</th>\n",
       "      <th>employment_type</th>\n",
       "      <th>job_title</th>\n",
       "      <th>salary</th>\n",
       "      <th>salary_currency</th>\n",
       "      <th>salary_in_usd</th>\n",
       "      <th>employee_residence</th>\n",
       "      <th>remote_ratio</th>\n",
       "      <th>company_location</th>\n",
       "      <th>company_size</th>\n",
       "    </tr>\n",
       "  </thead>\n",
       "  <tbody>\n",
       "    <tr>\n",
       "      <th>0</th>\n",
       "      <td>2022</td>\n",
       "      <td>SE</td>\n",
       "      <td>FT</td>\n",
       "      <td>Marketing Data Analyst</td>\n",
       "      <td>200000</td>\n",
       "      <td>USD</td>\n",
       "      <td>200000</td>\n",
       "      <td>GB</td>\n",
       "      <td>100</td>\n",
       "      <td>GB</td>\n",
       "      <td>S</td>\n",
       "    </tr>\n",
       "    <tr>\n",
       "      <th>1</th>\n",
       "      <td>2022</td>\n",
       "      <td>EN</td>\n",
       "      <td>FT</td>\n",
       "      <td>Data Scientist</td>\n",
       "      <td>96000</td>\n",
       "      <td>CAD</td>\n",
       "      <td>74378</td>\n",
       "      <td>CA</td>\n",
       "      <td>100</td>\n",
       "      <td>CA</td>\n",
       "      <td>L</td>\n",
       "    </tr>\n",
       "    <tr>\n",
       "      <th>2</th>\n",
       "      <td>2022</td>\n",
       "      <td>SE</td>\n",
       "      <td>FT</td>\n",
       "      <td>Data Science Lead</td>\n",
       "      <td>165000</td>\n",
       "      <td>USD</td>\n",
       "      <td>165000</td>\n",
       "      <td>US</td>\n",
       "      <td>50</td>\n",
       "      <td>US</td>\n",
       "      <td>S</td>\n",
       "    </tr>\n",
       "    <tr>\n",
       "      <th>3</th>\n",
       "      <td>2022</td>\n",
       "      <td>EN</td>\n",
       "      <td>FT</td>\n",
       "      <td>Data Scientist</td>\n",
       "      <td>27000</td>\n",
       "      <td>GBP</td>\n",
       "      <td>33599</td>\n",
       "      <td>GB</td>\n",
       "      <td>50</td>\n",
       "      <td>GB</td>\n",
       "      <td>L</td>\n",
       "    </tr>\n",
       "    <tr>\n",
       "      <th>4</th>\n",
       "      <td>2022</td>\n",
       "      <td>SE</td>\n",
       "      <td>FT</td>\n",
       "      <td>Data Engineer</td>\n",
       "      <td>185900</td>\n",
       "      <td>USD</td>\n",
       "      <td>185900</td>\n",
       "      <td>US</td>\n",
       "      <td>0</td>\n",
       "      <td>US</td>\n",
       "      <td>M</td>\n",
       "    </tr>\n",
       "  </tbody>\n",
       "</table>\n",
       "</div>"
      ],
      "text/plain": [
       "   work_year experience_level employment_type               job_title  salary  \\\n",
       "0       2022               SE              FT  Marketing Data Analyst  200000   \n",
       "1       2022               EN              FT          Data Scientist   96000   \n",
       "2       2022               SE              FT       Data Science Lead  165000   \n",
       "3       2022               EN              FT          Data Scientist   27000   \n",
       "4       2022               SE              FT           Data Engineer  185900   \n",
       "\n",
       "  salary_currency  salary_in_usd employee_residence  remote_ratio  \\\n",
       "0             USD         200000                 GB           100   \n",
       "1             CAD          74378                 CA           100   \n",
       "2             USD         165000                 US            50   \n",
       "3             GBP          33599                 GB            50   \n",
       "4             USD         185900                 US             0   \n",
       "\n",
       "  company_location company_size  \n",
       "0               GB            S  \n",
       "1               CA            L  \n",
       "2               US            S  \n",
       "3               GB            L  \n",
       "4               US            M  "
      ]
     },
     "execution_count": 53,
     "metadata": {},
     "output_type": "execute_result"
    }
   ],
   "source": [
    "data.head()"
   ]
  },
  {
   "cell_type": "code",
   "execution_count": 54,
   "id": "dac17a3b",
   "metadata": {},
   "outputs": [
    {
     "data": {
      "text/html": [
       "<div>\n",
       "<style scoped>\n",
       "    .dataframe tbody tr th:only-of-type {\n",
       "        vertical-align: middle;\n",
       "    }\n",
       "\n",
       "    .dataframe tbody tr th {\n",
       "        vertical-align: top;\n",
       "    }\n",
       "\n",
       "    .dataframe thead th {\n",
       "        text-align: right;\n",
       "    }\n",
       "</style>\n",
       "<table border=\"1\" class=\"dataframe\">\n",
       "  <thead>\n",
       "    <tr style=\"text-align: right;\">\n",
       "      <th></th>\n",
       "      <th>work_year</th>\n",
       "      <th>experience_level</th>\n",
       "      <th>employment_type</th>\n",
       "      <th>job_title</th>\n",
       "      <th>salary</th>\n",
       "      <th>salary_currency</th>\n",
       "      <th>salary_in_usd</th>\n",
       "      <th>employee_residence</th>\n",
       "      <th>remote_ratio</th>\n",
       "      <th>company_location</th>\n",
       "      <th>company_size</th>\n",
       "    </tr>\n",
       "  </thead>\n",
       "  <tbody>\n",
       "    <tr>\n",
       "      <th>1190</th>\n",
       "      <td>2020</td>\n",
       "      <td>SE</td>\n",
       "      <td>FT</td>\n",
       "      <td>Data Scientist</td>\n",
       "      <td>412000</td>\n",
       "      <td>USD</td>\n",
       "      <td>412000</td>\n",
       "      <td>US</td>\n",
       "      <td>100</td>\n",
       "      <td>US</td>\n",
       "      <td>L</td>\n",
       "    </tr>\n",
       "    <tr>\n",
       "      <th>1191</th>\n",
       "      <td>2021</td>\n",
       "      <td>MI</td>\n",
       "      <td>FT</td>\n",
       "      <td>Principal Data Scientist</td>\n",
       "      <td>151000</td>\n",
       "      <td>USD</td>\n",
       "      <td>151000</td>\n",
       "      <td>US</td>\n",
       "      <td>100</td>\n",
       "      <td>US</td>\n",
       "      <td>L</td>\n",
       "    </tr>\n",
       "    <tr>\n",
       "      <th>1192</th>\n",
       "      <td>2020</td>\n",
       "      <td>EN</td>\n",
       "      <td>FT</td>\n",
       "      <td>Data Scientist</td>\n",
       "      <td>105000</td>\n",
       "      <td>USD</td>\n",
       "      <td>105000</td>\n",
       "      <td>US</td>\n",
       "      <td>100</td>\n",
       "      <td>US</td>\n",
       "      <td>S</td>\n",
       "    </tr>\n",
       "    <tr>\n",
       "      <th>1193</th>\n",
       "      <td>2020</td>\n",
       "      <td>EN</td>\n",
       "      <td>CT</td>\n",
       "      <td>Business Data Analyst</td>\n",
       "      <td>100000</td>\n",
       "      <td>USD</td>\n",
       "      <td>100000</td>\n",
       "      <td>US</td>\n",
       "      <td>100</td>\n",
       "      <td>US</td>\n",
       "      <td>L</td>\n",
       "    </tr>\n",
       "    <tr>\n",
       "      <th>1194</th>\n",
       "      <td>2021</td>\n",
       "      <td>SE</td>\n",
       "      <td>FT</td>\n",
       "      <td>Data Science Manager</td>\n",
       "      <td>7000000</td>\n",
       "      <td>INR</td>\n",
       "      <td>94665</td>\n",
       "      <td>IN</td>\n",
       "      <td>50</td>\n",
       "      <td>IN</td>\n",
       "      <td>L</td>\n",
       "    </tr>\n",
       "  </tbody>\n",
       "</table>\n",
       "</div>"
      ],
      "text/plain": [
       "      work_year experience_level employment_type                 job_title  \\\n",
       "1190       2020               SE              FT            Data Scientist   \n",
       "1191       2021               MI              FT  Principal Data Scientist   \n",
       "1192       2020               EN              FT            Data Scientist   \n",
       "1193       2020               EN              CT     Business Data Analyst   \n",
       "1194       2021               SE              FT      Data Science Manager   \n",
       "\n",
       "       salary salary_currency  salary_in_usd employee_residence  remote_ratio  \\\n",
       "1190   412000             USD         412000                 US           100   \n",
       "1191   151000             USD         151000                 US           100   \n",
       "1192   105000             USD         105000                 US           100   \n",
       "1193   100000             USD         100000                 US           100   \n",
       "1194  7000000             INR          94665                 IN            50   \n",
       "\n",
       "     company_location company_size  \n",
       "1190               US            L  \n",
       "1191               US            L  \n",
       "1192               US            S  \n",
       "1193               US            L  \n",
       "1194               IN            L  "
      ]
     },
     "execution_count": 54,
     "metadata": {},
     "output_type": "execute_result"
    }
   ],
   "source": [
    "data.tail()"
   ]
  },
  {
   "cell_type": "markdown",
   "id": "173100b3",
   "metadata": {},
   "source": [
    "# Data Pre-processing"
   ]
  },
  {
   "cell_type": "code",
   "execution_count": 55,
   "id": "c6bb1eb8",
   "metadata": {},
   "outputs": [
    {
     "name": "stdout",
     "output_type": "stream",
     "text": [
      "<class 'pandas.core.frame.DataFrame'>\n",
      "RangeIndex: 1195 entries, 0 to 1194\n",
      "Data columns (total 11 columns):\n",
      " #   Column              Non-Null Count  Dtype \n",
      "---  ------              --------------  ----- \n",
      " 0   work_year           1195 non-null   int64 \n",
      " 1   experience_level    1195 non-null   object\n",
      " 2   employment_type     1195 non-null   object\n",
      " 3   job_title           1195 non-null   object\n",
      " 4   salary              1195 non-null   int64 \n",
      " 5   salary_currency     1195 non-null   object\n",
      " 6   salary_in_usd       1195 non-null   int64 \n",
      " 7   employee_residence  1195 non-null   object\n",
      " 8   remote_ratio        1195 non-null   int64 \n",
      " 9   company_location    1195 non-null   object\n",
      " 10  company_size        1195 non-null   object\n",
      "dtypes: int64(4), object(7)\n",
      "memory usage: 102.8+ KB\n"
     ]
    }
   ],
   "source": [
    "data.info()"
   ]
  },
  {
   "cell_type": "code",
   "execution_count": 56,
   "id": "f0ad081d",
   "metadata": {},
   "outputs": [
    {
     "data": {
      "text/html": [
       "<div>\n",
       "<style scoped>\n",
       "    .dataframe tbody tr th:only-of-type {\n",
       "        vertical-align: middle;\n",
       "    }\n",
       "\n",
       "    .dataframe tbody tr th {\n",
       "        vertical-align: top;\n",
       "    }\n",
       "\n",
       "    .dataframe thead th {\n",
       "        text-align: right;\n",
       "    }\n",
       "</style>\n",
       "<table border=\"1\" class=\"dataframe\">\n",
       "  <thead>\n",
       "    <tr style=\"text-align: right;\">\n",
       "      <th></th>\n",
       "      <th>work_year</th>\n",
       "      <th>salary</th>\n",
       "      <th>salary_in_usd</th>\n",
       "      <th>remote_ratio</th>\n",
       "    </tr>\n",
       "  </thead>\n",
       "  <tbody>\n",
       "    <tr>\n",
       "      <th>count</th>\n",
       "      <td>1195.000000</td>\n",
       "      <td>1.195000e+03</td>\n",
       "      <td>1195.000000</td>\n",
       "      <td>1195.000000</td>\n",
       "    </tr>\n",
       "    <tr>\n",
       "      <th>mean</th>\n",
       "      <td>2021.684519</td>\n",
       "      <td>2.495210e+05</td>\n",
       "      <td>122041.142259</td>\n",
       "      <td>66.736402</td>\n",
       "    </tr>\n",
       "    <tr>\n",
       "      <th>std</th>\n",
       "      <td>0.584604</td>\n",
       "      <td>1.136720e+06</td>\n",
       "      <td>66487.800833</td>\n",
       "      <td>44.035085</td>\n",
       "    </tr>\n",
       "    <tr>\n",
       "      <th>min</th>\n",
       "      <td>2020.000000</td>\n",
       "      <td>2.324000e+03</td>\n",
       "      <td>2324.000000</td>\n",
       "      <td>0.000000</td>\n",
       "    </tr>\n",
       "    <tr>\n",
       "      <th>25%</th>\n",
       "      <td>2021.000000</td>\n",
       "      <td>8.000000e+04</td>\n",
       "      <td>73961.000000</td>\n",
       "      <td>0.000000</td>\n",
       "    </tr>\n",
       "    <tr>\n",
       "      <th>50%</th>\n",
       "      <td>2022.000000</td>\n",
       "      <td>1.300000e+05</td>\n",
       "      <td>120000.000000</td>\n",
       "      <td>100.000000</td>\n",
       "    </tr>\n",
       "    <tr>\n",
       "      <th>75%</th>\n",
       "      <td>2022.000000</td>\n",
       "      <td>1.755500e+05</td>\n",
       "      <td>160237.500000</td>\n",
       "      <td>100.000000</td>\n",
       "    </tr>\n",
       "    <tr>\n",
       "      <th>max</th>\n",
       "      <td>2022.000000</td>\n",
       "      <td>3.040000e+07</td>\n",
       "      <td>600000.000000</td>\n",
       "      <td>100.000000</td>\n",
       "    </tr>\n",
       "  </tbody>\n",
       "</table>\n",
       "</div>"
      ],
      "text/plain": [
       "         work_year        salary  salary_in_usd  remote_ratio\n",
       "count  1195.000000  1.195000e+03    1195.000000   1195.000000\n",
       "mean   2021.684519  2.495210e+05  122041.142259     66.736402\n",
       "std       0.584604  1.136720e+06   66487.800833     44.035085\n",
       "min    2020.000000  2.324000e+03    2324.000000      0.000000\n",
       "25%    2021.000000  8.000000e+04   73961.000000      0.000000\n",
       "50%    2022.000000  1.300000e+05  120000.000000    100.000000\n",
       "75%    2022.000000  1.755500e+05  160237.500000    100.000000\n",
       "max    2022.000000  3.040000e+07  600000.000000    100.000000"
      ]
     },
     "execution_count": 56,
     "metadata": {},
     "output_type": "execute_result"
    }
   ],
   "source": [
    "data.describe()"
   ]
  },
  {
   "cell_type": "code",
   "execution_count": 57,
   "id": "19e01621",
   "metadata": {},
   "outputs": [
    {
     "data": {
      "text/plain": [
       "work_year             0\n",
       "experience_level      0\n",
       "employment_type       0\n",
       "job_title             0\n",
       "salary                0\n",
       "salary_currency       0\n",
       "salary_in_usd         0\n",
       "employee_residence    0\n",
       "remote_ratio          0\n",
       "company_location      0\n",
       "company_size          0\n",
       "dtype: int64"
      ]
     },
     "execution_count": 57,
     "metadata": {},
     "output_type": "execute_result"
    }
   ],
   "source": [
    "data.isnull().sum()"
   ]
  },
  {
   "cell_type": "code",
   "execution_count": 58,
   "id": "c7298a5f",
   "metadata": {},
   "outputs": [],
   "source": [
    "#data.experience_level=data.experience_level.map({'EN':1,'MI':2,'SE':3,'EX':4})\n",
    "#data.employment_type = data.employment_type.map({'PT':1,'FT':2,'CT':3,'FL':4})\n",
    "#data.company_size = data.company_size.map({'S':1,'M':2,'L':3})"
   ]
  },
  {
   "cell_type": "code",
   "execution_count": 59,
   "id": "cf0d7240",
   "metadata": {
    "scrolled": true
   },
   "outputs": [
    {
     "data": {
      "text/html": [
       "<div>\n",
       "<style scoped>\n",
       "    .dataframe tbody tr th:only-of-type {\n",
       "        vertical-align: middle;\n",
       "    }\n",
       "\n",
       "    .dataframe tbody tr th {\n",
       "        vertical-align: top;\n",
       "    }\n",
       "\n",
       "    .dataframe thead th {\n",
       "        text-align: right;\n",
       "    }\n",
       "</style>\n",
       "<table border=\"1\" class=\"dataframe\">\n",
       "  <thead>\n",
       "    <tr style=\"text-align: right;\">\n",
       "      <th></th>\n",
       "      <th>work_year</th>\n",
       "      <th>experience_level</th>\n",
       "      <th>employment_type</th>\n",
       "      <th>job_title</th>\n",
       "      <th>salary</th>\n",
       "      <th>salary_currency</th>\n",
       "      <th>salary_in_usd</th>\n",
       "      <th>employee_residence</th>\n",
       "      <th>remote_ratio</th>\n",
       "      <th>company_location</th>\n",
       "      <th>company_size</th>\n",
       "    </tr>\n",
       "  </thead>\n",
       "  <tbody>\n",
       "    <tr>\n",
       "      <th>0</th>\n",
       "      <td>2022</td>\n",
       "      <td>SE</td>\n",
       "      <td>FT</td>\n",
       "      <td>Marketing Data Analyst</td>\n",
       "      <td>200000</td>\n",
       "      <td>USD</td>\n",
       "      <td>200000</td>\n",
       "      <td>GB</td>\n",
       "      <td>100</td>\n",
       "      <td>GB</td>\n",
       "      <td>S</td>\n",
       "    </tr>\n",
       "    <tr>\n",
       "      <th>1</th>\n",
       "      <td>2022</td>\n",
       "      <td>EN</td>\n",
       "      <td>FT</td>\n",
       "      <td>Data Scientist</td>\n",
       "      <td>96000</td>\n",
       "      <td>CAD</td>\n",
       "      <td>74378</td>\n",
       "      <td>CA</td>\n",
       "      <td>100</td>\n",
       "      <td>CA</td>\n",
       "      <td>L</td>\n",
       "    </tr>\n",
       "    <tr>\n",
       "      <th>2</th>\n",
       "      <td>2022</td>\n",
       "      <td>SE</td>\n",
       "      <td>FT</td>\n",
       "      <td>Data Science Lead</td>\n",
       "      <td>165000</td>\n",
       "      <td>USD</td>\n",
       "      <td>165000</td>\n",
       "      <td>US</td>\n",
       "      <td>50</td>\n",
       "      <td>US</td>\n",
       "      <td>S</td>\n",
       "    </tr>\n",
       "    <tr>\n",
       "      <th>3</th>\n",
       "      <td>2022</td>\n",
       "      <td>EN</td>\n",
       "      <td>FT</td>\n",
       "      <td>Data Scientist</td>\n",
       "      <td>27000</td>\n",
       "      <td>GBP</td>\n",
       "      <td>33599</td>\n",
       "      <td>GB</td>\n",
       "      <td>50</td>\n",
       "      <td>GB</td>\n",
       "      <td>L</td>\n",
       "    </tr>\n",
       "    <tr>\n",
       "      <th>4</th>\n",
       "      <td>2022</td>\n",
       "      <td>SE</td>\n",
       "      <td>FT</td>\n",
       "      <td>Data Engineer</td>\n",
       "      <td>185900</td>\n",
       "      <td>USD</td>\n",
       "      <td>185900</td>\n",
       "      <td>US</td>\n",
       "      <td>0</td>\n",
       "      <td>US</td>\n",
       "      <td>M</td>\n",
       "    </tr>\n",
       "  </tbody>\n",
       "</table>\n",
       "</div>"
      ],
      "text/plain": [
       "   work_year experience_level employment_type               job_title  salary  \\\n",
       "0       2022               SE              FT  Marketing Data Analyst  200000   \n",
       "1       2022               EN              FT          Data Scientist   96000   \n",
       "2       2022               SE              FT       Data Science Lead  165000   \n",
       "3       2022               EN              FT          Data Scientist   27000   \n",
       "4       2022               SE              FT           Data Engineer  185900   \n",
       "\n",
       "  salary_currency  salary_in_usd employee_residence  remote_ratio  \\\n",
       "0             USD         200000                 GB           100   \n",
       "1             CAD          74378                 CA           100   \n",
       "2             USD         165000                 US            50   \n",
       "3             GBP          33599                 GB            50   \n",
       "4             USD         185900                 US             0   \n",
       "\n",
       "  company_location company_size  \n",
       "0               GB            S  \n",
       "1               CA            L  \n",
       "2               US            S  \n",
       "3               GB            L  \n",
       "4               US            M  "
      ]
     },
     "execution_count": 59,
     "metadata": {},
     "output_type": "execute_result"
    }
   ],
   "source": [
    "data.head()"
   ]
  },
  {
   "cell_type": "markdown",
   "id": "1fb16f1a",
   "metadata": {},
   "source": [
    "# Data Visualization"
   ]
  },
  {
   "cell_type": "code",
   "execution_count": 60,
   "id": "fed35149",
   "metadata": {},
   "outputs": [],
   "source": [
    "features_cat = ['work_year', 'experience_level', 'employment_type', 'job_title',\n",
    "                'employee_residence', 'company_location', 'company_size']"
   ]
  },
  {
   "cell_type": "code",
   "execution_count": 61,
   "id": "f0ed0336",
   "metadata": {},
   "outputs": [
    {
     "data": {
      "image/png": "[encoded data removed]",
      "text/plain": [
       "<Figure size 864x216 with 1 Axes>"
      ]
     },
     "metadata": {
      "needs_background": "light"
     },
     "output_type": "display_data"
    },
    {
     "data": {
      "image/png": "[encoded data removed]",
      "text/plain": [
       "<Figure size 864x216 with 1 Axes>"
      ]
     },
     "metadata": {
      "needs_background": "light"
     },
     "output_type": "display_data"
    },
    {
     "data": {
      "image/png": "[encoded data removed]",
      "text/plain": [
       "<Figure size 864x216 with 1 Axes>"
      ]
     },
     "metadata": {
      "needs_background": "light"
     },
     "output_type": "display_data"
    },
    {
     "data": {
      "image/png": "[encoded data removed]",
      "text/plain": [
       "<Figure size 864x216 with 1 Axes>"
      ]
     },
     "metadata": {
      "needs_background": "light"
     },
     "output_type": "display_data"
    },
    {
     "data": {
      "image/png": "[encoded data removed]",
      "text/plain": [
       "<Figure size 864x216 with 1 Axes>"
      ]
     },
     "metadata": {
      "needs_background": "light"
     },
     "output_type": "display_data"
    },
    {
     "data": {
      "image/png": "[encoded data removed]",
      "text/plain": [
       "<Figure size 864x216 with 1 Axes>"
      ]
     },
     "metadata": {
      "needs_background": "light"
     },
     "output_type": "display_data"
    },
    {
     "data": {
      "image/png": "[encoded data removed]",
      "text/plain": [
       "<Figure size 864x216 with 1 Axes>"
      ]
     },
     "metadata": {
      "needs_background": "light"
     },
     "output_type": "display_data"
    }
   ],
   "source": [
    "for f in features_cat:\n",
    "    plt.figure(figsize=(12,3))\n",
    "    data[f].value_counts().plot(kind='bar', color='blue')\n",
    "    plt.title(f)\n",
    "    plt.grid()\n",
    "    plt.show()"
   ]
  },
  {
   "cell_type": "code",
   "execution_count": 62,
   "id": "49fdc512",
   "metadata": {},
   "outputs": [
    {
     "name": "stdout",
     "output_type": "stream",
     "text": [
      "Size of selection: (690, 11)\n"
     ]
    }
   ],
   "source": [
    "# select subset\n",
    "df_select = data[(data.work_year==2022) & \n",
    "               (data.employment_type=='FT') & \n",
    "               (data.company_location=='US')]\n",
    "\n",
    "print('Size of selection:', df_select.shape)\n",
    "\n",
    "# adjust relevant features\n",
    "features_cat_select = ['experience_level', 'job_title',\n",
    "                       'employee_residence', 'company_size']"
   ]
  },
  {
   "cell_type": "code",
   "execution_count": 63,
   "id": "b9c720a9",
   "metadata": {},
   "outputs": [
    {
     "data": {
      "text/plain": [
       "US    680\n",
       "BO      2\n",
       "CR      1\n",
       "RU      1\n",
       "AR      1\n",
       "MY      1\n",
       "CL      1\n",
       "BR      1\n",
       "IN      1\n",
       "ES      1\n",
       "Name: employee_residence, dtype: int64"
      ]
     },
     "execution_count": 63,
     "metadata": {},
     "output_type": "execute_result"
    }
   ],
   "source": [
    "# a few people in our selection work from abroad (employee_residence != US)\n",
    "df_select.employee_residence.value_counts()"
   ]
  },
  {
   "cell_type": "code",
   "execution_count": 64,
   "id": "5f8ea3a3",
   "metadata": {},
   "outputs": [
    {
     "data": {
      "image/png": "[encoded data removed]",
      "text/plain": [
       "<Figure size 720x144 with 1 Axes>"
      ]
     },
     "metadata": {
      "needs_background": "light"
     },
     "output_type": "display_data"
    }
   ],
   "source": [
    "plt.figure(figsize=(10,2))\n",
    "df_select.salary_in_usd.plot(kind='box', vert=False, color='blue')\n",
    "plt.title('Selection - Salary in USD')\n",
    "plt.grid()\n",
    "plt.show()"
   ]
  },
  {
   "cell_type": "code",
   "execution_count": 65,
   "id": "f4b204fd",
   "metadata": {},
   "outputs": [
    {
     "data": {
      "image/png": "[encoded data removed]",
      "text/plain": [
       "<Figure size 720x216 with 1 Axes>"
      ]
     },
     "metadata": {
      "needs_background": "light"
     },
     "output_type": "display_data"
    }
   ],
   "source": [
    "# plot distribution of salary (in USD)\n",
    "plt.figure(figsize=(10,3))\n",
    "df_select.salary_in_usd.plot(kind='hist', bins=25, color='blue')\n",
    "plt.title('Selection - Salary in USD')\n",
    "plt.grid()\n",
    "plt.show()"
   ]
  },
  {
   "cell_type": "code",
   "execution_count": 66,
   "id": "eb560454",
   "metadata": {},
   "outputs": [
    {
     "data": {
      "text/plain": [
       "<AxesSubplot:>"
      ]
     },
     "execution_count": 66,
     "metadata": {},
     "output_type": "execute_result"
    },
    {
     "data": {
      "image/png": "[encoded data removed]",
      "text/plain": [
       "<Figure size 648x648 with 2 Axes>"
      ]
     },
     "metadata": {
      "needs_background": "light"
     },
     "output_type": "display_data"
    }
   ],
   "source": [
    "%matplotlib inline \n",
    "corrmat=data.corr()\n",
    "f,ax=plt.subplots(figsize=(9,9))\n",
    "sns.heatmap(corrmat,vmax=.8,square=True)"
   ]
  },
  {
   "cell_type": "code",
   "execution_count": 67,
   "id": "16d3ed46",
   "metadata": {},
   "outputs": [
    {
     "data": {
      "image/png": "[encoded data removed]",
      "text/plain": [
       "<Figure size 720x288 with 1 Axes>"
      ]
     },
     "metadata": {
      "needs_background": "light"
     },
     "output_type": "display_data"
    }
   ],
   "source": [
    "plt.figure(figsize=(10,4))\n",
    "sns.scatterplot(data=df_select, y='company_size', x='salary_in_usd')\n",
    "plt.title('Selection - Salary by Company Size')\n",
    "plt.grid()\n",
    "plt.show()"
   ]
  },
  {
   "cell_type": "code",
   "execution_count": 68,
   "id": "9ad52586",
   "metadata": {},
   "outputs": [
    {
     "data": {
      "text/html": [
       "<div>\n",
       "<style scoped>\n",
       "    .dataframe tbody tr th:only-of-type {\n",
       "        vertical-align: middle;\n",
       "    }\n",
       "\n",
       "    .dataframe tbody tr th {\n",
       "        vertical-align: top;\n",
       "    }\n",
       "\n",
       "    .dataframe thead th {\n",
       "        text-align: right;\n",
       "    }\n",
       "</style>\n",
       "<table border=\"1\" class=\"dataframe\">\n",
       "  <thead>\n",
       "    <tr style=\"text-align: right;\">\n",
       "      <th></th>\n",
       "      <th>work_year</th>\n",
       "      <th>experience_level</th>\n",
       "      <th>employment_type</th>\n",
       "      <th>job_title</th>\n",
       "      <th>salary</th>\n",
       "      <th>salary_currency</th>\n",
       "      <th>salary_in_usd</th>\n",
       "      <th>employee_residence</th>\n",
       "      <th>remote_ratio</th>\n",
       "      <th>company_location</th>\n",
       "      <th>company_size</th>\n",
       "    </tr>\n",
       "  </thead>\n",
       "  <tbody>\n",
       "    <tr>\n",
       "      <th>0</th>\n",
       "      <td>2022</td>\n",
       "      <td>SE</td>\n",
       "      <td>FT</td>\n",
       "      <td>Marketing Data Analyst</td>\n",
       "      <td>200000</td>\n",
       "      <td>USD</td>\n",
       "      <td>200000</td>\n",
       "      <td>GB</td>\n",
       "      <td>100</td>\n",
       "      <td>GB</td>\n",
       "      <td>S</td>\n",
       "    </tr>\n",
       "    <tr>\n",
       "      <th>1</th>\n",
       "      <td>2022</td>\n",
       "      <td>EN</td>\n",
       "      <td>FT</td>\n",
       "      <td>Data Scientist</td>\n",
       "      <td>96000</td>\n",
       "      <td>CAD</td>\n",
       "      <td>74378</td>\n",
       "      <td>CA</td>\n",
       "      <td>100</td>\n",
       "      <td>CA</td>\n",
       "      <td>L</td>\n",
       "    </tr>\n",
       "    <tr>\n",
       "      <th>2</th>\n",
       "      <td>2022</td>\n",
       "      <td>SE</td>\n",
       "      <td>FT</td>\n",
       "      <td>Data Science Lead</td>\n",
       "      <td>165000</td>\n",
       "      <td>USD</td>\n",
       "      <td>165000</td>\n",
       "      <td>US</td>\n",
       "      <td>50</td>\n",
       "      <td>US</td>\n",
       "      <td>S</td>\n",
       "    </tr>\n",
       "    <tr>\n",
       "      <th>3</th>\n",
       "      <td>2022</td>\n",
       "      <td>EN</td>\n",
       "      <td>FT</td>\n",
       "      <td>Data Scientist</td>\n",
       "      <td>27000</td>\n",
       "      <td>GBP</td>\n",
       "      <td>33599</td>\n",
       "      <td>GB</td>\n",
       "      <td>50</td>\n",
       "      <td>GB</td>\n",
       "      <td>L</td>\n",
       "    </tr>\n",
       "    <tr>\n",
       "      <th>4</th>\n",
       "      <td>2022</td>\n",
       "      <td>SE</td>\n",
       "      <td>FT</td>\n",
       "      <td>Data Engineer</td>\n",
       "      <td>185900</td>\n",
       "      <td>USD</td>\n",
       "      <td>185900</td>\n",
       "      <td>US</td>\n",
       "      <td>0</td>\n",
       "      <td>US</td>\n",
       "      <td>M</td>\n",
       "    </tr>\n",
       "  </tbody>\n",
       "</table>\n",
       "</div>"
      ],
      "text/plain": [
       "   work_year experience_level employment_type               job_title  salary  \\\n",
       "0       2022               SE              FT  Marketing Data Analyst  200000   \n",
       "1       2022               EN              FT          Data Scientist   96000   \n",
       "2       2022               SE              FT       Data Science Lead  165000   \n",
       "3       2022               EN              FT          Data Scientist   27000   \n",
       "4       2022               SE              FT           Data Engineer  185900   \n",
       "\n",
       "  salary_currency  salary_in_usd employee_residence  remote_ratio  \\\n",
       "0             USD         200000                 GB           100   \n",
       "1             CAD          74378                 CA           100   \n",
       "2             USD         165000                 US            50   \n",
       "3             GBP          33599                 GB            50   \n",
       "4             USD         185900                 US             0   \n",
       "\n",
       "  company_location company_size  \n",
       "0               GB            S  \n",
       "1               CA            L  \n",
       "2               US            S  \n",
       "3               GB            L  \n",
       "4               US            M  "
      ]
     },
     "execution_count": 68,
     "metadata": {},
     "output_type": "execute_result"
    }
   ],
   "source": [
    "data.head()"
   ]
  },
  {
   "cell_type": "code",
   "execution_count": 69,
   "id": "69435cbe",
   "metadata": {},
   "outputs": [
    {
     "data": {
      "text/plain": [
       "work_year             0\n",
       "experience_level      0\n",
       "employment_type       0\n",
       "job_title             0\n",
       "salary                0\n",
       "salary_currency       0\n",
       "salary_in_usd         0\n",
       "employee_residence    0\n",
       "remote_ratio          0\n",
       "company_location      0\n",
       "company_size          0\n",
       "dtype: int64"
      ]
     },
     "execution_count": 69,
     "metadata": {},
     "output_type": "execute_result"
    }
   ],
   "source": [
    "data.isnull().sum()"
   ]
  },
  {
   "cell_type": "code",
   "execution_count": 70,
   "id": "597ddaaa",
   "metadata": {},
   "outputs": [
    {
     "name": "stdout",
     "output_type": "stream",
     "text": [
      "<class 'pandas.core.frame.DataFrame'>\n",
      "RangeIndex: 1195 entries, 0 to 1194\n",
      "Data columns (total 11 columns):\n",
      " #   Column              Non-Null Count  Dtype \n",
      "---  ------              --------------  ----- \n",
      " 0   work_year           1195 non-null   int64 \n",
      " 1   experience_level    1195 non-null   object\n",
      " 2   employment_type     1195 non-null   object\n",
      " 3   job_title           1195 non-null   object\n",
      " 4   salary              1195 non-null   int64 \n",
      " 5   salary_currency     1195 non-null   object\n",
      " 6   salary_in_usd       1195 non-null   int64 \n",
      " 7   employee_residence  1195 non-null   object\n",
      " 8   remote_ratio        1195 non-null   int64 \n",
      " 9   company_location    1195 non-null   object\n",
      " 10  company_size        1195 non-null   object\n",
      "dtypes: int64(4), object(7)\n",
      "memory usage: 102.8+ KB\n"
     ]
    }
   ],
   "source": [
    "data.info()"
   ]
  },
  {
   "cell_type": "code",
   "execution_count": 71,
   "id": "9bb8f6fb",
   "metadata": {},
   "outputs": [
    {
     "data": {
      "text/html": [
       "<div>\n",
       "<style scoped>\n",
       "    .dataframe tbody tr th:only-of-type {\n",
       "        vertical-align: middle;\n",
       "    }\n",
       "\n",
       "    .dataframe tbody tr th {\n",
       "        vertical-align: top;\n",
       "    }\n",
       "\n",
       "    .dataframe thead th {\n",
       "        text-align: right;\n",
       "    }\n",
       "</style>\n",
       "<table border=\"1\" class=\"dataframe\">\n",
       "  <thead>\n",
       "    <tr style=\"text-align: right;\">\n",
       "      <th></th>\n",
       "      <th>work_year</th>\n",
       "      <th>experience_level</th>\n",
       "      <th>employment_type</th>\n",
       "      <th>salary_in_usd</th>\n",
       "      <th>employee_residence</th>\n",
       "      <th>remote_ratio</th>\n",
       "      <th>company_location</th>\n",
       "      <th>company_size</th>\n",
       "    </tr>\n",
       "  </thead>\n",
       "  <tbody>\n",
       "    <tr>\n",
       "      <th>0</th>\n",
       "      <td>2022</td>\n",
       "      <td>SE</td>\n",
       "      <td>FT</td>\n",
       "      <td>200000</td>\n",
       "      <td>GB</td>\n",
       "      <td>100</td>\n",
       "      <td>GB</td>\n",
       "      <td>S</td>\n",
       "    </tr>\n",
       "    <tr>\n",
       "      <th>1</th>\n",
       "      <td>2022</td>\n",
       "      <td>EN</td>\n",
       "      <td>FT</td>\n",
       "      <td>74378</td>\n",
       "      <td>CA</td>\n",
       "      <td>100</td>\n",
       "      <td>CA</td>\n",
       "      <td>L</td>\n",
       "    </tr>\n",
       "    <tr>\n",
       "      <th>2</th>\n",
       "      <td>2022</td>\n",
       "      <td>SE</td>\n",
       "      <td>FT</td>\n",
       "      <td>165000</td>\n",
       "      <td>US</td>\n",
       "      <td>50</td>\n",
       "      <td>US</td>\n",
       "      <td>S</td>\n",
       "    </tr>\n",
       "    <tr>\n",
       "      <th>3</th>\n",
       "      <td>2022</td>\n",
       "      <td>EN</td>\n",
       "      <td>FT</td>\n",
       "      <td>33599</td>\n",
       "      <td>GB</td>\n",
       "      <td>50</td>\n",
       "      <td>GB</td>\n",
       "      <td>L</td>\n",
       "    </tr>\n",
       "    <tr>\n",
       "      <th>4</th>\n",
       "      <td>2022</td>\n",
       "      <td>SE</td>\n",
       "      <td>FT</td>\n",
       "      <td>185900</td>\n",
       "      <td>US</td>\n",
       "      <td>0</td>\n",
       "      <td>US</td>\n",
       "      <td>M</td>\n",
       "    </tr>\n",
       "  </tbody>\n",
       "</table>\n",
       "</div>"
      ],
      "text/plain": [
       "   work_year experience_level employment_type  salary_in_usd  \\\n",
       "0       2022               SE              FT         200000   \n",
       "1       2022               EN              FT          74378   \n",
       "2       2022               SE              FT         165000   \n",
       "3       2022               EN              FT          33599   \n",
       "4       2022               SE              FT         185900   \n",
       "\n",
       "  employee_residence  remote_ratio company_location company_size  \n",
       "0                 GB           100               GB            S  \n",
       "1                 CA           100               CA            L  \n",
       "2                 US            50               US            S  \n",
       "3                 GB            50               GB            L  \n",
       "4                 US             0               US            M  "
      ]
     },
     "execution_count": 71,
     "metadata": {},
     "output_type": "execute_result"
    }
   ],
   "source": [
    "data = data.drop([\"salary\"], axis=1)\n",
    "data = data.drop([\"salary_currency\"], axis=1)\n",
    "data = data.drop([\"job_title\"], axis=1)\n",
    "data.head()"
   ]
  },
  {
   "cell_type": "code",
   "execution_count": 72,
   "id": "42cc29e6",
   "metadata": {},
   "outputs": [],
   "source": [
    "data = data.drop([\"company_location\"],axis=1)"
   ]
  },
  {
   "cell_type": "code",
   "execution_count": 73,
   "id": "14e948a2",
   "metadata": {},
   "outputs": [
    {
     "data": {
      "text/html": [
       "<div>\n",
       "<style scoped>\n",
       "    .dataframe tbody tr th:only-of-type {\n",
       "        vertical-align: middle;\n",
       "    }\n",
       "\n",
       "    .dataframe tbody tr th {\n",
       "        vertical-align: top;\n",
       "    }\n",
       "\n",
       "    .dataframe thead th {\n",
       "        text-align: right;\n",
       "    }\n",
       "</style>\n",
       "<table border=\"1\" class=\"dataframe\">\n",
       "  <thead>\n",
       "    <tr style=\"text-align: right;\">\n",
       "      <th></th>\n",
       "      <th>work_year</th>\n",
       "      <th>experience_level</th>\n",
       "      <th>employment_type</th>\n",
       "      <th>salary_in_usd</th>\n",
       "      <th>employee_residence</th>\n",
       "      <th>remote_ratio</th>\n",
       "      <th>company_size</th>\n",
       "    </tr>\n",
       "  </thead>\n",
       "  <tbody>\n",
       "    <tr>\n",
       "      <th>0</th>\n",
       "      <td>2022</td>\n",
       "      <td>SE</td>\n",
       "      <td>FT</td>\n",
       "      <td>200000</td>\n",
       "      <td>GB</td>\n",
       "      <td>100</td>\n",
       "      <td>S</td>\n",
       "    </tr>\n",
       "    <tr>\n",
       "      <th>1</th>\n",
       "      <td>2022</td>\n",
       "      <td>EN</td>\n",
       "      <td>FT</td>\n",
       "      <td>74378</td>\n",
       "      <td>CA</td>\n",
       "      <td>100</td>\n",
       "      <td>L</td>\n",
       "    </tr>\n",
       "    <tr>\n",
       "      <th>2</th>\n",
       "      <td>2022</td>\n",
       "      <td>SE</td>\n",
       "      <td>FT</td>\n",
       "      <td>165000</td>\n",
       "      <td>US</td>\n",
       "      <td>50</td>\n",
       "      <td>S</td>\n",
       "    </tr>\n",
       "    <tr>\n",
       "      <th>3</th>\n",
       "      <td>2022</td>\n",
       "      <td>EN</td>\n",
       "      <td>FT</td>\n",
       "      <td>33599</td>\n",
       "      <td>GB</td>\n",
       "      <td>50</td>\n",
       "      <td>L</td>\n",
       "    </tr>\n",
       "    <tr>\n",
       "      <th>4</th>\n",
       "      <td>2022</td>\n",
       "      <td>SE</td>\n",
       "      <td>FT</td>\n",
       "      <td>185900</td>\n",
       "      <td>US</td>\n",
       "      <td>0</td>\n",
       "      <td>M</td>\n",
       "    </tr>\n",
       "  </tbody>\n",
       "</table>\n",
       "</div>"
      ],
      "text/plain": [
       "   work_year experience_level employment_type  salary_in_usd  \\\n",
       "0       2022               SE              FT         200000   \n",
       "1       2022               EN              FT          74378   \n",
       "2       2022               SE              FT         165000   \n",
       "3       2022               EN              FT          33599   \n",
       "4       2022               SE              FT         185900   \n",
       "\n",
       "  employee_residence  remote_ratio company_size  \n",
       "0                 GB           100            S  \n",
       "1                 CA           100            L  \n",
       "2                 US            50            S  \n",
       "3                 GB            50            L  \n",
       "4                 US             0            M  "
      ]
     },
     "execution_count": 73,
     "metadata": {},
     "output_type": "execute_result"
    }
   ],
   "source": [
    "data.head()"
   ]
  },
  {
   "cell_type": "markdown",
   "id": "4591dacd",
   "metadata": {},
   "source": [
    "# Encoding Values"
   ]
  },
  {
   "cell_type": "code",
   "execution_count": 74,
   "id": "c264c5be",
   "metadata": {},
   "outputs": [],
   "source": [
    "data.experience_level=data.experience_level.map({'EN':1,'MI':2,'SE':3,'EX':4})\n",
    "data.employment_type = data.employment_type.map({'PT':1,'FT':2,'CT':3,'FL':4})\n",
    "data.company_size = data.company_size.map({'S':1,'M':2,'L':3})"
   ]
  },
  {
   "cell_type": "markdown",
   "id": "c40ab369",
   "metadata": {},
   "source": [
    "# Splitting the dataset"
   ]
  },
  {
   "cell_type": "code",
   "execution_count": 75,
   "id": "130a3f5a",
   "metadata": {},
   "outputs": [
    {
     "data": {
      "text/html": [
       "<div>\n",
       "<style scoped>\n",
       "    .dataframe tbody tr th:only-of-type {\n",
       "        vertical-align: middle;\n",
       "    }\n",
       "\n",
       "    .dataframe tbody tr th {\n",
       "        vertical-align: top;\n",
       "    }\n",
       "\n",
       "    .dataframe thead th {\n",
       "        text-align: right;\n",
       "    }\n",
       "</style>\n",
       "<table border=\"1\" class=\"dataframe\">\n",
       "  <thead>\n",
       "    <tr style=\"text-align: right;\">\n",
       "      <th></th>\n",
       "      <th>work_year</th>\n",
       "      <th>experience_level</th>\n",
       "      <th>employment_type</th>\n",
       "      <th>salary_in_usd</th>\n",
       "      <th>remote_ratio</th>\n",
       "      <th>company_size</th>\n",
       "    </tr>\n",
       "  </thead>\n",
       "  <tbody>\n",
       "    <tr>\n",
       "      <th>work_year</th>\n",
       "      <td>1.000000</td>\n",
       "      <td>0.322690</td>\n",
       "      <td>-0.000839</td>\n",
       "      <td>0.213543</td>\n",
       "      <td>-0.012700</td>\n",
       "      <td>-0.093555</td>\n",
       "    </tr>\n",
       "    <tr>\n",
       "      <th>experience_level</th>\n",
       "      <td>0.322690</td>\n",
       "      <td>1.000000</td>\n",
       "      <td>0.060309</td>\n",
       "      <td>0.519460</td>\n",
       "      <td>0.030519</td>\n",
       "      <td>-0.026940</td>\n",
       "    </tr>\n",
       "    <tr>\n",
       "      <th>employment_type</th>\n",
       "      <td>-0.000839</td>\n",
       "      <td>0.060309</td>\n",
       "      <td>1.000000</td>\n",
       "      <td>0.023065</td>\n",
       "      <td>0.020747</td>\n",
       "      <td>-0.016056</td>\n",
       "    </tr>\n",
       "    <tr>\n",
       "      <th>salary_in_usd</th>\n",
       "      <td>0.213543</td>\n",
       "      <td>0.519460</td>\n",
       "      <td>0.023065</td>\n",
       "      <td>1.000000</td>\n",
       "      <td>0.032861</td>\n",
       "      <td>0.077035</td>\n",
       "    </tr>\n",
       "    <tr>\n",
       "      <th>remote_ratio</th>\n",
       "      <td>-0.012700</td>\n",
       "      <td>0.030519</td>\n",
       "      <td>0.020747</td>\n",
       "      <td>0.032861</td>\n",
       "      <td>1.000000</td>\n",
       "      <td>0.008992</td>\n",
       "    </tr>\n",
       "    <tr>\n",
       "      <th>company_size</th>\n",
       "      <td>-0.093555</td>\n",
       "      <td>-0.026940</td>\n",
       "      <td>-0.016056</td>\n",
       "      <td>0.077035</td>\n",
       "      <td>0.008992</td>\n",
       "      <td>1.000000</td>\n",
       "    </tr>\n",
       "  </tbody>\n",
       "</table>\n",
       "</div>"
      ],
      "text/plain": [
       "                  work_year  experience_level  employment_type  salary_in_usd  \\\n",
       "work_year          1.000000          0.322690        -0.000839       0.213543   \n",
       "experience_level   0.322690          1.000000         0.060309       0.519460   \n",
       "employment_type   -0.000839          0.060309         1.000000       0.023065   \n",
       "salary_in_usd      0.213543          0.519460         0.023065       1.000000   \n",
       "remote_ratio      -0.012700          0.030519         0.020747       0.032861   \n",
       "company_size      -0.093555         -0.026940        -0.016056       0.077035   \n",
       "\n",
       "                  remote_ratio  company_size  \n",
       "work_year            -0.012700     -0.093555  \n",
       "experience_level      0.030519     -0.026940  \n",
       "employment_type       0.020747     -0.016056  \n",
       "salary_in_usd         0.032861      0.077035  \n",
       "remote_ratio          1.000000      0.008992  \n",
       "company_size          0.008992      1.000000  "
      ]
     },
     "execution_count": 75,
     "metadata": {},
     "output_type": "execute_result"
    }
   ],
   "source": [
    "data.corr()"
   ]
  },
  {
   "cell_type": "code",
   "execution_count": 76,
   "id": "0b820754",
   "metadata": {},
   "outputs": [],
   "source": [
    "y = data.iloc[:,4]\n",
    "X1 = data.iloc[:,0:4]\n",
    "X2 = data.iloc[:,5:]\n",
    "\n",
    "X = X1.join(X2)"
   ]
  },
  {
   "cell_type": "code",
   "execution_count": 77,
   "id": "9dbf7bbc",
   "metadata": {},
   "outputs": [
    {
     "data": {
      "text/html": [
       "<div>\n",
       "<style scoped>\n",
       "    .dataframe tbody tr th:only-of-type {\n",
       "        vertical-align: middle;\n",
       "    }\n",
       "\n",
       "    .dataframe tbody tr th {\n",
       "        vertical-align: top;\n",
       "    }\n",
       "\n",
       "    .dataframe thead th {\n",
       "        text-align: right;\n",
       "    }\n",
       "</style>\n",
       "<table border=\"1\" class=\"dataframe\">\n",
       "  <thead>\n",
       "    <tr style=\"text-align: right;\">\n",
       "      <th></th>\n",
       "      <th>work_year</th>\n",
       "      <th>experience_level</th>\n",
       "      <th>employment_type</th>\n",
       "      <th>salary_in_usd</th>\n",
       "      <th>remote_ratio</th>\n",
       "      <th>company_size</th>\n",
       "    </tr>\n",
       "  </thead>\n",
       "  <tbody>\n",
       "    <tr>\n",
       "      <th>0</th>\n",
       "      <td>2022</td>\n",
       "      <td>3</td>\n",
       "      <td>2</td>\n",
       "      <td>200000</td>\n",
       "      <td>100</td>\n",
       "      <td>1</td>\n",
       "    </tr>\n",
       "    <tr>\n",
       "      <th>1</th>\n",
       "      <td>2022</td>\n",
       "      <td>1</td>\n",
       "      <td>2</td>\n",
       "      <td>74378</td>\n",
       "      <td>100</td>\n",
       "      <td>3</td>\n",
       "    </tr>\n",
       "    <tr>\n",
       "      <th>2</th>\n",
       "      <td>2022</td>\n",
       "      <td>3</td>\n",
       "      <td>2</td>\n",
       "      <td>165000</td>\n",
       "      <td>50</td>\n",
       "      <td>1</td>\n",
       "    </tr>\n",
       "    <tr>\n",
       "      <th>3</th>\n",
       "      <td>2022</td>\n",
       "      <td>1</td>\n",
       "      <td>2</td>\n",
       "      <td>33599</td>\n",
       "      <td>50</td>\n",
       "      <td>3</td>\n",
       "    </tr>\n",
       "    <tr>\n",
       "      <th>4</th>\n",
       "      <td>2022</td>\n",
       "      <td>3</td>\n",
       "      <td>2</td>\n",
       "      <td>185900</td>\n",
       "      <td>0</td>\n",
       "      <td>2</td>\n",
       "    </tr>\n",
       "    <tr>\n",
       "      <th>...</th>\n",
       "      <td>...</td>\n",
       "      <td>...</td>\n",
       "      <td>...</td>\n",
       "      <td>...</td>\n",
       "      <td>...</td>\n",
       "      <td>...</td>\n",
       "    </tr>\n",
       "    <tr>\n",
       "      <th>1190</th>\n",
       "      <td>2020</td>\n",
       "      <td>3</td>\n",
       "      <td>2</td>\n",
       "      <td>412000</td>\n",
       "      <td>100</td>\n",
       "      <td>3</td>\n",
       "    </tr>\n",
       "    <tr>\n",
       "      <th>1191</th>\n",
       "      <td>2021</td>\n",
       "      <td>2</td>\n",
       "      <td>2</td>\n",
       "      <td>151000</td>\n",
       "      <td>100</td>\n",
       "      <td>3</td>\n",
       "    </tr>\n",
       "    <tr>\n",
       "      <th>1192</th>\n",
       "      <td>2020</td>\n",
       "      <td>1</td>\n",
       "      <td>2</td>\n",
       "      <td>105000</td>\n",
       "      <td>100</td>\n",
       "      <td>1</td>\n",
       "    </tr>\n",
       "    <tr>\n",
       "      <th>1193</th>\n",
       "      <td>2020</td>\n",
       "      <td>1</td>\n",
       "      <td>3</td>\n",
       "      <td>100000</td>\n",
       "      <td>100</td>\n",
       "      <td>3</td>\n",
       "    </tr>\n",
       "    <tr>\n",
       "      <th>1194</th>\n",
       "      <td>2021</td>\n",
       "      <td>3</td>\n",
       "      <td>2</td>\n",
       "      <td>94665</td>\n",
       "      <td>50</td>\n",
       "      <td>3</td>\n",
       "    </tr>\n",
       "  </tbody>\n",
       "</table>\n",
       "<p>1195 rows × 6 columns</p>\n",
       "</div>"
      ],
      "text/plain": [
       "      work_year  experience_level  employment_type  salary_in_usd  \\\n",
       "0          2022                 3                2         200000   \n",
       "1          2022                 1                2          74378   \n",
       "2          2022                 3                2         165000   \n",
       "3          2022                 1                2          33599   \n",
       "4          2022                 3                2         185900   \n",
       "...         ...               ...              ...            ...   \n",
       "1190       2020                 3                2         412000   \n",
       "1191       2021                 2                2         151000   \n",
       "1192       2020                 1                2         105000   \n",
       "1193       2020                 1                3         100000   \n",
       "1194       2021                 3                2          94665   \n",
       "\n",
       "      remote_ratio  company_size  \n",
       "0              100             1  \n",
       "1              100             3  \n",
       "2               50             1  \n",
       "3               50             3  \n",
       "4                0             2  \n",
       "...            ...           ...  \n",
       "1190           100             3  \n",
       "1191           100             3  \n",
       "1192           100             1  \n",
       "1193           100             3  \n",
       "1194            50             3  \n",
       "\n",
       "[1195 rows x 6 columns]"
      ]
     },
     "execution_count": 77,
     "metadata": {},
     "output_type": "execute_result"
    }
   ],
   "source": [
    "X"
   ]
  },
  {
   "cell_type": "code",
   "execution_count": 78,
   "id": "d7e2972e",
   "metadata": {},
   "outputs": [
    {
     "name": "stdout",
     "output_type": "stream",
     "text": [
      "<class 'pandas.core.frame.DataFrame'>\n",
      "RangeIndex: 1195 entries, 0 to 1194\n",
      "Data columns (total 6 columns):\n",
      " #   Column            Non-Null Count  Dtype\n",
      "---  ------            --------------  -----\n",
      " 0   work_year         1195 non-null   int64\n",
      " 1   experience_level  1195 non-null   int64\n",
      " 2   employment_type   1195 non-null   int64\n",
      " 3   salary_in_usd     1195 non-null   int64\n",
      " 4   remote_ratio      1195 non-null   int64\n",
      " 5   company_size      1195 non-null   int64\n",
      "dtypes: int64(6)\n",
      "memory usage: 56.1 KB\n"
     ]
    }
   ],
   "source": [
    "X.info()"
   ]
  },
  {
   "cell_type": "code",
   "execution_count": 79,
   "id": "1591e65f",
   "metadata": {},
   "outputs": [],
   "source": [
    "from sklearn.model_selection import train_test_split\n",
    "\n",
    "X_train,X_test, y_train, y_test = train_test_split(X,y,test_size=0.3, random_state=42)"
   ]
  },
  {
   "cell_type": "code",
   "execution_count": 80,
   "id": "8cb005c8",
   "metadata": {},
   "outputs": [
    {
     "data": {
      "text/plain": [
       "(836, 6)"
      ]
     },
     "execution_count": 80,
     "metadata": {},
     "output_type": "execute_result"
    }
   ],
   "source": [
    "X_train.shape"
   ]
  },
  {
   "cell_type": "code",
   "execution_count": 81,
   "id": "f272e577",
   "metadata": {},
   "outputs": [
    {
     "data": {
      "text/plain": [
       "(359, 6)"
      ]
     },
     "execution_count": 81,
     "metadata": {},
     "output_type": "execute_result"
    }
   ],
   "source": [
    "X_test.shape"
   ]
  },
  {
   "cell_type": "markdown",
   "id": "49ff7a26",
   "metadata": {},
   "source": [
    "# Model Implementation"
   ]
  },
  {
   "cell_type": "markdown",
   "id": "d2371ca1",
   "metadata": {},
   "source": [
    "1. Logistic Regression "
   ]
  },
  {
   "cell_type": "code",
   "execution_count": 82,
   "id": "4b46fde8",
   "metadata": {},
   "outputs": [
    {
     "name": "stderr",
     "output_type": "stream",
     "text": [
      "C:\\Users\\simra\\anaconda3\\lib\\site-packages\\sklearn\\linear_model\\_logistic.py:814: ConvergenceWarning: lbfgs failed to converge (status=1):\n",
      "STOP: TOTAL NO. of ITERATIONS REACHED LIMIT.\n",
      "\n",
      "Increase the number of iterations (max_iter) or scale the data as shown in:\n",
      "    https://scikit-learn.org/stable/modules/preprocessing.html\n",
      "Please also refer to the documentation for alternative solver options:\n",
      "    https://scikit-learn.org/stable/modules/linear_model.html#logistic-regression\n",
      "  n_iter_i = _check_optimize_result(\n"
     ]
    },
    {
     "data": {
      "text/plain": [
       "LogisticRegression()"
      ]
     },
     "execution_count": 82,
     "metadata": {},
     "output_type": "execute_result"
    }
   ],
   "source": [
    "from sklearn.linear_model import LogisticRegression\n",
    "\n",
    "logreg = LogisticRegression()\n",
    "logreg.fit(X_train,y_train)"
   ]
  },
  {
   "cell_type": "code",
   "execution_count": 83,
   "id": "5b48ee8f",
   "metadata": {},
   "outputs": [
    {
     "data": {
      "text/plain": [
       "array(['US', 'US', 'US', 'US', 'US', 'US', 'US', 'IN', 'IN', 'US', 'US',\n",
       "       'US', 'US', 'US', 'US', 'US', 'US', 'US', 'US', 'US', 'US', 'US',\n",
       "       'US', 'US', 'US', 'US', 'US', 'IN', 'US', 'US', 'US', 'US', 'IN',\n",
       "       'US', 'IN', 'US', 'IN', 'US', 'US', 'US', 'US', 'US', 'IN', 'US',\n",
       "       'US', 'US', 'US', 'US', 'US', 'IN', 'US', 'US', 'US', 'US', 'US',\n",
       "       'US', 'US', 'IN', 'US', 'US', 'US', 'US', 'US', 'US', 'US', 'US',\n",
       "       'US', 'US', 'US', 'US', 'US', 'US', 'US', 'US', 'US', 'US', 'US',\n",
       "       'US', 'US', 'US', 'US', 'US', 'US', 'US', 'US', 'US', 'US', 'US',\n",
       "       'US', 'US', 'US', 'US', 'US', 'US', 'US', 'US', 'US', 'US', 'US',\n",
       "       'US', 'US', 'US', 'US', 'US', 'US', 'US', 'US', 'US', 'US', 'US',\n",
       "       'IN', 'IN', 'US', 'US', 'IN', 'US', 'US', 'US', 'US', 'US', 'US',\n",
       "       'US', 'US', 'US', 'US', 'US', 'US', 'US', 'IN', 'US', 'US', 'US',\n",
       "       'US', 'US', 'IN', 'US', 'US', 'US', 'US', 'US', 'US', 'US', 'US',\n",
       "       'US', 'US', 'US', 'US', 'US', 'US', 'US', 'US', 'US', 'US', 'US',\n",
       "       'US', 'US', 'US', 'US', 'US', 'US', 'US', 'US', 'US', 'US', 'US',\n",
       "       'US', 'US', 'US', 'US', 'US', 'US', 'US', 'US', 'US', 'US', 'US',\n",
       "       'US', 'US', 'US', 'US', 'US', 'US', 'US', 'US', 'US', 'US', 'US',\n",
       "       'US', 'US', 'US', 'US', 'US', 'US', 'US', 'US', 'US', 'US', 'US',\n",
       "       'US', 'IN', 'US', 'US', 'US', 'US', 'US', 'US', 'IN', 'US', 'US',\n",
       "       'IN', 'US', 'US', 'IN', 'US', 'US', 'US', 'US', 'US', 'US', 'US',\n",
       "       'IN', 'IN', 'US', 'US', 'US', 'US', 'US', 'US', 'US', 'US', 'US',\n",
       "       'US', 'IN', 'US', 'US', 'US', 'US', 'US', 'US', 'US', 'US', 'US',\n",
       "       'US', 'US', 'US', 'US', 'US', 'US', 'US', 'US', 'US', 'US', 'US',\n",
       "       'US', 'US', 'US', 'US', 'US', 'US', 'US', 'US', 'US', 'US', 'US',\n",
       "       'US', 'US', 'US', 'US', 'US', 'US', 'US', 'US', 'US', 'US', 'US',\n",
       "       'US', 'US', 'US', 'US', 'US', 'US', 'IN', 'US', 'US', 'IN', 'US',\n",
       "       'US', 'US', 'US', 'IN', 'US', 'US', 'US', 'US', 'US', 'US', 'US',\n",
       "       'US', 'US', 'US', 'US', 'US', 'US', 'US', 'US', 'US', 'US', 'US',\n",
       "       'US', 'US', 'US', 'US', 'US', 'US', 'US', 'IN', 'US', 'US', 'US',\n",
       "       'US', 'US', 'US', 'US', 'US', 'US', 'US', 'US', 'US', 'US', 'US',\n",
       "       'US', 'US', 'US', 'US', 'US', 'US', 'US', 'US', 'US', 'US', 'US',\n",
       "       'IN', 'US', 'US', 'US', 'US', 'US', 'IN', 'US', 'US', 'IN', 'US',\n",
       "       'US', 'US', 'US', 'US', 'US', 'US', 'US'], dtype=object)"
      ]
     },
     "execution_count": 83,
     "metadata": {},
     "output_type": "execute_result"
    }
   ],
   "source": [
    "y_pred = logreg.predict(X_test)\n",
    "y_pred"
   ]
  },
  {
   "cell_type": "code",
   "execution_count": 84,
   "id": "413b1af6",
   "metadata": {},
   "outputs": [
    {
     "name": "stdout",
     "output_type": "stream",
     "text": [
      "1.0\n"
     ]
    }
   ],
   "source": [
    "print(logreg.score(X_test,y_pred))"
   ]
  },
  {
   "cell_type": "code",
   "execution_count": 85,
   "id": "ad093520",
   "metadata": {},
   "outputs": [
    {
     "data": {
      "text/plain": [
       "array([[  0,   0,   0, ...,   0,   3,   0],\n",
       "       [  0,   0,   0, ...,   0,   2,   0],\n",
       "       [  0,   0,   0, ...,   0,   5,   0],\n",
       "       ...,\n",
       "       [  0,   0,   0, ...,   0,   0,   0],\n",
       "       [  0,   0,   0, ...,   0, 240,   0],\n",
       "       [  0,   0,   0, ...,   0,   1,   0]], dtype=int64)"
      ]
     },
     "execution_count": 85,
     "metadata": {},
     "output_type": "execute_result"
    }
   ],
   "source": [
    "conf = confusion_matrix(y_test,y_pred)\n",
    "conf"
   ]
  },
  {
   "cell_type": "code",
   "execution_count": 86,
   "id": "d1c69834",
   "metadata": {},
   "outputs": [
    {
     "name": "stdout",
     "output_type": "stream",
     "text": [
      "              precision    recall  f1-score   support\n",
      "\n",
      "          AE       0.00      0.00      0.00         3\n",
      "          AT       0.00      0.00      0.00         2\n",
      "          AU       0.00      0.00      0.00         5\n",
      "          BE       0.00      0.00      0.00         3\n",
      "          BO       0.00      0.00      0.00         3\n",
      "          BR       0.00      0.00      0.00         4\n",
      "          CA       0.00      0.00      0.00        10\n",
      "          DE       0.00      0.00      0.00         6\n",
      "          EG       0.00      0.00      0.00         1\n",
      "          ES       0.00      0.00      0.00         6\n",
      "          FR       0.00      0.00      0.00         2\n",
      "          GB       0.00      0.00      0.00        34\n",
      "          GR       0.00      0.00      0.00         3\n",
      "          HN       0.00      0.00      0.00         1\n",
      "          HU       0.00      0.00      0.00         1\n",
      "          ID       0.00      0.00      0.00         1\n",
      "          IE       0.00      0.00      0.00         1\n",
      "          IN       0.29      0.57      0.38        14\n",
      "          LU       0.00      0.00      0.00         1\n",
      "          MD       0.00      0.00      0.00         1\n",
      "          MT       0.00      0.00      0.00         1\n",
      "          NG       0.00      0.00      0.00         1\n",
      "          NL       0.00      0.00      0.00         1\n",
      "          PH       0.00      0.00      0.00         1\n",
      "          PK       0.00      0.00      0.00         1\n",
      "          PL       0.00      0.00      0.00         1\n",
      "          PR       0.00      0.00      0.00         2\n",
      "          PT       0.00      0.00      0.00         5\n",
      "          SG       0.00      0.00      0.00         1\n",
      "          TR       0.00      0.00      0.00         1\n",
      "          US       0.73      1.00      0.84       241\n",
      "          VN       0.00      0.00      0.00         1\n",
      "\n",
      "    accuracy                           0.69       359\n",
      "   macro avg       0.03      0.05      0.04       359\n",
      "weighted avg       0.50      0.69      0.58       359\n",
      "\n"
     ]
    },
    {
     "name": "stderr",
     "output_type": "stream",
     "text": [
      "C:\\Users\\simra\\anaconda3\\lib\\site-packages\\sklearn\\metrics\\_classification.py:1308: UndefinedMetricWarning: Precision and F-score are ill-defined and being set to 0.0 in labels with no predicted samples. Use `zero_division` parameter to control this behavior.\n",
      "  _warn_prf(average, modifier, msg_start, len(result))\n",
      "C:\\Users\\simra\\anaconda3\\lib\\site-packages\\sklearn\\metrics\\_classification.py:1308: UndefinedMetricWarning: Precision and F-score are ill-defined and being set to 0.0 in labels with no predicted samples. Use `zero_division` parameter to control this behavior.\n",
      "  _warn_prf(average, modifier, msg_start, len(result))\n",
      "C:\\Users\\simra\\anaconda3\\lib\\site-packages\\sklearn\\metrics\\_classification.py:1308: UndefinedMetricWarning: Precision and F-score are ill-defined and being set to 0.0 in labels with no predicted samples. Use `zero_division` parameter to control this behavior.\n",
      "  _warn_prf(average, modifier, msg_start, len(result))\n"
     ]
    }
   ],
   "source": [
    "print(classification_report(y_test,y_pred))"
   ]
  },
  {
   "cell_type": "markdown",
   "id": "f4f00408",
   "metadata": {},
   "source": [
    "2. Support Vector Machine (SVM)"
   ]
  },
  {
   "cell_type": "code",
   "execution_count": 87,
   "id": "1870c009",
   "metadata": {},
   "outputs": [
    {
     "data": {
      "text/plain": [
       "SVC(C=1000.0, probability=True)"
      ]
     },
     "execution_count": 87,
     "metadata": {},
     "output_type": "execute_result"
    }
   ],
   "source": [
    "from sklearn.svm import SVC\n",
    "\n",
    "linear_svc = SVC(kernel='rbf', C=1000.0, probability=True, gamma='scale')\n",
    "linear_svc.fit(X_train.values, np.ravel(y_train))"
   ]
  },
  {
   "cell_type": "code",
   "execution_count": 88,
   "id": "dfaadc21",
   "metadata": {},
   "outputs": [
    {
     "name": "stderr",
     "output_type": "stream",
     "text": [
      "C:\\Users\\simra\\anaconda3\\lib\\site-packages\\sklearn\\base.py:438: UserWarning: X has feature names, but SVC was fitted without feature names\n",
      "  warnings.warn(\n"
     ]
    },
    {
     "data": {
      "text/plain": [
       "array(['US', 'US', 'US', 'US', 'US', 'US', 'US', 'US', 'US', 'US', 'US',\n",
       "       'US', 'US', 'US', 'US', 'US', 'US', 'US', 'US', 'US', 'US', 'US',\n",
       "       'US', 'US', 'US', 'US', 'US', 'IN', 'US', 'US', 'US', 'US', 'IN',\n",
       "       'US', 'IN', 'US', 'IN', 'US', 'US', 'US', 'US', 'US', 'US', 'US',\n",
       "       'US', 'US', 'US', 'US', 'US', 'IN', 'US', 'US', 'US', 'US', 'US',\n",
       "       'US', 'US', 'IN', 'US', 'US', 'US', 'US', 'US', 'US', 'US', 'US',\n",
       "       'US', 'US', 'US', 'US', 'US', 'US', 'US', 'US', 'US', 'US', 'US',\n",
       "       'US', 'US', 'US', 'US', 'US', 'US', 'US', 'US', 'US', 'US', 'US',\n",
       "       'US', 'US', 'US', 'US', 'US', 'US', 'US', 'US', 'US', 'US', 'US',\n",
       "       'US', 'US', 'US', 'US', 'US', 'US', 'US', 'US', 'US', 'US', 'US',\n",
       "       'IN', 'IN', 'US', 'US', 'IN', 'US', 'US', 'US', 'US', 'US', 'US',\n",
       "       'US', 'US', 'US', 'US', 'US', 'US', 'US', 'IN', 'US', 'US', 'US',\n",
       "       'US', 'US', 'IN', 'US', 'US', 'US', 'US', 'US', 'US', 'US', 'US',\n",
       "       'US', 'US', 'US', 'US', 'US', 'US', 'US', 'US', 'US', 'US', 'US',\n",
       "       'US', 'US', 'US', 'US', 'US', 'US', 'US', 'US', 'US', 'US', 'US',\n",
       "       'US', 'US', 'US', 'US', 'US', 'US', 'US', 'US', 'US', 'US', 'US',\n",
       "       'US', 'US', 'US', 'US', 'US', 'US', 'US', 'US', 'US', 'US', 'US',\n",
       "       'US', 'US', 'US', 'US', 'US', 'US', 'US', 'US', 'US', 'US', 'US',\n",
       "       'US', 'IN', 'US', 'US', 'US', 'US', 'US', 'US', 'IN', 'US', 'US',\n",
       "       'IN', 'US', 'US', 'IN', 'US', 'US', 'US', 'US', 'US', 'US', 'US',\n",
       "       'IN', 'US', 'US', 'US', 'US', 'US', 'US', 'US', 'US', 'US', 'US',\n",
       "       'US', 'IN', 'US', 'US', 'US', 'US', 'US', 'US', 'US', 'US', 'US',\n",
       "       'US', 'US', 'US', 'US', 'US', 'US', 'US', 'US', 'US', 'US', 'US',\n",
       "       'US', 'US', 'US', 'US', 'US', 'US', 'US', 'US', 'US', 'US', 'US',\n",
       "       'US', 'US', 'US', 'US', 'US', 'US', 'US', 'US', 'US', 'US', 'US',\n",
       "       'US', 'US', 'US', 'US', 'US', 'US', 'US', 'US', 'US', 'IN', 'US',\n",
       "       'US', 'US', 'US', 'IN', 'US', 'US', 'US', 'US', 'US', 'US', 'US',\n",
       "       'US', 'US', 'US', 'US', 'US', 'US', 'US', 'US', 'US', 'US', 'US',\n",
       "       'US', 'US', 'US', 'US', 'US', 'US', 'US', 'IN', 'US', 'US', 'US',\n",
       "       'US', 'US', 'US', 'US', 'US', 'US', 'US', 'US', 'US', 'US', 'US',\n",
       "       'US', 'US', 'US', 'US', 'US', 'US', 'US', 'US', 'US', 'US', 'US',\n",
       "       'IN', 'US', 'US', 'US', 'US', 'US', 'IN', 'US', 'US', 'US', 'US',\n",
       "       'US', 'US', 'US', 'US', 'US', 'US', 'US'], dtype=object)"
      ]
     },
     "execution_count": 88,
     "metadata": {},
     "output_type": "execute_result"
    }
   ],
   "source": [
    "y_svc  = linear_svc.predict(X_test)\n",
    "y_svc"
   ]
  },
  {
   "cell_type": "code",
   "execution_count": 89,
   "id": "338804e0",
   "metadata": {},
   "outputs": [
    {
     "name": "stdout",
     "output_type": "stream",
     "text": [
      "[[  0   0   0 ...   0   3   0]\n",
      " [  0   0   0 ...   0   2   0]\n",
      " [  0   0   0 ...   0   5   0]\n",
      " ...\n",
      " [  0   0   0 ...   0   0   0]\n",
      " [  0   0   0 ...   0 241   0]\n",
      " [  0   0   0 ...   0   1   0]]\n"
     ]
    }
   ],
   "source": [
    "print(confusion_matrix(y_test,y_svc))"
   ]
  },
  {
   "cell_type": "code",
   "execution_count": 90,
   "id": "54524a3f",
   "metadata": {},
   "outputs": [
    {
     "name": "stdout",
     "output_type": "stream",
     "text": [
      "              precision    recall  f1-score   support\n",
      "\n",
      "          AE       0.00      0.00      0.00         3\n",
      "          AT       0.00      0.00      0.00         2\n",
      "          AU       0.00      0.00      0.00         5\n",
      "          BE       0.00      0.00      0.00         3\n",
      "          BO       0.00      0.00      0.00         3\n",
      "          BR       0.00      0.00      0.00         4\n",
      "          CA       0.00      0.00      0.00        10\n",
      "          DE       0.00      0.00      0.00         6\n",
      "          EG       0.00      0.00      0.00         1\n",
      "          ES       0.00      0.00      0.00         6\n",
      "          FR       0.00      0.00      0.00         2\n",
      "          GB       0.00      0.00      0.00        34\n",
      "          GR       0.00      0.00      0.00         3\n",
      "          HN       0.00      0.00      0.00         1\n",
      "          HU       0.00      0.00      0.00         1\n",
      "          ID       0.00      0.00      0.00         1\n",
      "          IE       0.00      0.00      0.00         1\n",
      "          IN       0.36      0.57      0.44        14\n",
      "          LU       0.00      0.00      0.00         1\n",
      "          MD       0.00      0.00      0.00         1\n",
      "          MT       0.00      0.00      0.00         1\n",
      "          NG       0.00      0.00      0.00         1\n",
      "          NL       0.00      0.00      0.00         1\n",
      "          PH       0.00      0.00      0.00         1\n",
      "          PK       0.00      0.00      0.00         1\n",
      "          PL       0.00      0.00      0.00         1\n",
      "          PR       0.00      0.00      0.00         2\n",
      "          PT       0.00      0.00      0.00         5\n",
      "          SG       0.00      0.00      0.00         1\n",
      "          TR       0.00      0.00      0.00         1\n",
      "          US       0.72      1.00      0.83       241\n",
      "          VN       0.00      0.00      0.00         1\n",
      "\n",
      "    accuracy                           0.69       359\n",
      "   macro avg       0.03      0.05      0.04       359\n",
      "weighted avg       0.49      0.69      0.58       359\n",
      "\n"
     ]
    },
    {
     "name": "stderr",
     "output_type": "stream",
     "text": [
      "C:\\Users\\simra\\anaconda3\\lib\\site-packages\\sklearn\\metrics\\_classification.py:1308: UndefinedMetricWarning: Precision and F-score are ill-defined and being set to 0.0 in labels with no predicted samples. Use `zero_division` parameter to control this behavior.\n",
      "  _warn_prf(average, modifier, msg_start, len(result))\n",
      "C:\\Users\\simra\\anaconda3\\lib\\site-packages\\sklearn\\metrics\\_classification.py:1308: UndefinedMetricWarning: Precision and F-score are ill-defined and being set to 0.0 in labels with no predicted samples. Use `zero_division` parameter to control this behavior.\n",
      "  _warn_prf(average, modifier, msg_start, len(result))\n",
      "C:\\Users\\simra\\anaconda3\\lib\\site-packages\\sklearn\\metrics\\_classification.py:1308: UndefinedMetricWarning: Precision and F-score are ill-defined and being set to 0.0 in labels with no predicted samples. Use `zero_division` parameter to control this behavior.\n",
      "  _warn_prf(average, modifier, msg_start, len(result))\n"
     ]
    }
   ],
   "source": [
    "print(classification_report(y_test,y_svc))"
   ]
  },
  {
   "cell_type": "markdown",
   "id": "b63c5aa2",
   "metadata": {},
   "source": [
    "3. Random Forest"
   ]
  },
  {
   "cell_type": "code",
   "execution_count": 91,
   "id": "e8c76f5a",
   "metadata": {},
   "outputs": [
    {
     "data": {
      "text/plain": [
       "RandomForestClassifier(max_depth=10, max_features='log2', n_estimators=300,\n",
       "                       n_jobs=1)"
      ]
     },
     "execution_count": 91,
     "metadata": {},
     "output_type": "execute_result"
    }
   ],
   "source": [
    "from sklearn.ensemble import RandomForestClassifier\n",
    "\n",
    "classifier = RandomForestClassifier(n_estimators=300,  criterion='gini', max_depth=10, min_samples_split=2, min_samples_leaf=1, \n",
    "                                  min_weight_fraction_leaf=0.0, max_features='log2', max_leaf_nodes=None, min_impurity_decrease=0.0\n",
    "                                  , bootstrap=True,oob_score=False, n_jobs=1, random_state=None,\n",
    "                                  verbose=0, warm_start=False, class_weight=None, ccp_alpha=0.0, max_samples=None)\n",
    "\n",
    "classifier.fit(X_train, y_train)"
   ]
  },
  {
   "cell_type": "code",
   "execution_count": 92,
   "id": "b6a697a2",
   "metadata": {},
   "outputs": [
    {
     "data": {
      "text/plain": [
       "array(['US', 'US', 'GB', 'US', 'US', 'US', 'GB', 'JP', 'ES', 'US', 'US',\n",
       "       'US', 'US', 'US', 'US', 'US', 'US', 'GB', 'US', 'US', 'US', 'CA',\n",
       "       'US', 'GB', 'US', 'US', 'US', 'IN', 'US', 'US', 'US', 'US', 'CA',\n",
       "       'US', 'IN', 'US', 'GB', 'US', 'GB', 'US', 'US', 'US', 'SI', 'US',\n",
       "       'US', 'US', 'GB', 'US', 'US', 'UA', 'US', 'US', 'US', 'US', 'CA',\n",
       "       'US', 'US', 'IN', 'US', 'US', 'US', 'US', 'US', 'US', 'US', 'US',\n",
       "       'US', 'US', 'US', 'US', 'US', 'AR', 'US', 'US', 'GB', 'US', 'US',\n",
       "       'US', 'US', 'US', 'US', 'US', 'US', 'US', 'US', 'US', 'US', 'US',\n",
       "       'US', 'US', 'US', 'US', 'US', 'FR', 'US', 'US', 'US', 'US', 'GB',\n",
       "       'US', 'PK', 'US', 'US', 'US', 'US', 'GB', 'US', 'US', 'US', 'US',\n",
       "       'IN', 'SI', 'GR', 'US', 'FR', 'US', 'US', 'US', 'US', 'US', 'US',\n",
       "       'US', 'US', 'US', 'US', 'US', 'US', 'US', 'UA', 'US', 'US', 'US',\n",
       "       'US', 'US', 'IN', 'US', 'US', 'US', 'US', 'US', 'US', 'IT', 'US',\n",
       "       'DE', 'US', 'US', 'US', 'US', 'CA', 'US', 'ES', 'GB', 'US', 'US',\n",
       "       'US', 'US', 'US', 'US', 'US', 'US', 'US', 'US', 'US', 'GB', 'US',\n",
       "       'US', 'US', 'US', 'US', 'GB', 'US', 'US', 'US', 'US', 'AR', 'US',\n",
       "       'US', 'US', 'US', 'US', 'US', 'US', 'CZ', 'US', 'US', 'US', 'US',\n",
       "       'US', 'US', 'US', 'US', 'US', 'US', 'US', 'US', 'US', 'US', 'US',\n",
       "       'US', 'IN', 'US', 'GB', 'US', 'US', 'US', 'US', 'AX', 'US', 'US',\n",
       "       'IN', 'US', 'US', 'IN', 'US', 'GR', 'FR', 'US', 'US', 'US', 'US',\n",
       "       'IN', 'IN', 'US', 'FR', 'US', 'US', 'US', 'US', 'GB', 'US', 'FR',\n",
       "       'US', 'IN', 'GR', 'US', 'US', 'US', 'US', 'US', 'FR', 'US', 'US',\n",
       "       'US', 'US', 'US', 'US', 'US', 'US', 'US', 'PK', 'US', 'US', 'US',\n",
       "       'US', 'US', 'US', 'US', 'US', 'GB', 'DE', 'FR', 'US', 'US', 'US',\n",
       "       'US', 'DE', 'US', 'US', 'DE', 'US', 'US', 'GR', 'US', 'US', 'US',\n",
       "       'US', 'US', 'US', 'US', 'US', 'US', 'US', 'US', 'US', 'ES', 'US',\n",
       "       'US', 'NL', 'US', 'TR', 'US', 'US', 'US', 'CA', 'US', 'US', 'US',\n",
       "       'US', 'US', 'US', 'US', 'US', 'US', 'US', 'US', 'US', 'US', 'US',\n",
       "       'US', 'US', 'US', 'US', 'US', 'US', 'US', 'VN', 'GB', 'US', 'US',\n",
       "       'US', 'US', 'US', 'GB', 'US', 'GB', 'US', 'US', 'AR', 'US', 'US',\n",
       "       'US', 'US', 'PH', 'US', 'US', 'US', 'US', 'US', 'US', 'US', 'US',\n",
       "       'CO', 'US', 'US', 'US', 'US', 'US', 'IN', 'US', 'US', 'US', 'US',\n",
       "       'US', 'US', 'ES', 'ES', 'US', 'US', 'US'], dtype=object)"
      ]
     },
     "execution_count": 92,
     "metadata": {},
     "output_type": "execute_result"
    }
   ],
   "source": [
    "y_rf = classifier.predict(X_test)\n",
    "y_rf"
   ]
  },
  {
   "cell_type": "code",
   "execution_count": 93,
   "id": "f802ba5d",
   "metadata": {},
   "outputs": [
    {
     "name": "stdout",
     "output_type": "stream",
     "text": [
      "[[  0   0   0 ...   0   3   0]\n",
      " [  0   0   0 ...   0   0   0]\n",
      " [  0   0   0 ...   0   1   0]\n",
      " ...\n",
      " [  0   0   0 ...   0   0   0]\n",
      " [  0   1   0 ...   0 232   0]\n",
      " [  0   0   0 ...   0   0   0]]\n"
     ]
    }
   ],
   "source": [
    "print(confusion_matrix(y_test,y_rf))"
   ]
  },
  {
   "cell_type": "code",
   "execution_count": 94,
   "id": "fb2ee48d",
   "metadata": {},
   "outputs": [
    {
     "name": "stdout",
     "output_type": "stream",
     "text": [
      "              precision    recall  f1-score   support\n",
      "\n",
      "          AE       0.00      0.00      0.00         3\n",
      "          AR       0.00      0.00      0.00         0\n",
      "          AT       0.00      0.00      0.00         2\n",
      "          AU       0.00      0.00      0.00         5\n",
      "          AX       0.00      0.00      0.00         0\n",
      "          BE       0.00      0.00      0.00         3\n",
      "          BO       0.00      0.00      0.00         3\n",
      "          BR       0.00      0.00      0.00         4\n",
      "          CA       0.20      0.10      0.13        10\n",
      "          CO       0.00      0.00      0.00         0\n",
      "          CZ       0.00      0.00      0.00         0\n",
      "          DE       0.25      0.17      0.20         6\n",
      "          EG       0.00      0.00      0.00         1\n",
      "          ES       0.40      0.33      0.36         6\n",
      "          FR       0.00      0.00      0.00         2\n",
      "          GB       0.42      0.24      0.30        34\n",
      "          GR       0.00      0.00      0.00         3\n",
      "          HN       0.00      0.00      0.00         1\n",
      "          HU       0.00      0.00      0.00         1\n",
      "          ID       0.00      0.00      0.00         1\n",
      "          IE       0.00      0.00      0.00         1\n",
      "          IN       0.33      0.29      0.31        14\n",
      "          IT       0.00      0.00      0.00         0\n",
      "          JP       0.00      0.00      0.00         0\n",
      "          LU       0.00      0.00      0.00         1\n",
      "          MD       0.00      0.00      0.00         1\n",
      "          MT       0.00      0.00      0.00         1\n",
      "          NG       0.00      0.00      0.00         1\n",
      "          NL       0.00      0.00      0.00         1\n",
      "          PH       0.00      0.00      0.00         1\n",
      "          PK       0.00      0.00      0.00         1\n",
      "          PL       0.00      0.00      0.00         1\n",
      "          PR       0.00      0.00      0.00         2\n",
      "          PT       0.00      0.00      0.00         5\n",
      "          SG       0.00      0.00      0.00         1\n",
      "          SI       0.00      0.00      0.00         0\n",
      "          TR       0.00      0.00      0.00         1\n",
      "          UA       0.00      0.00      0.00         0\n",
      "          US       0.81      0.96      0.88       241\n",
      "          VN       0.00      0.00      0.00         1\n",
      "\n",
      "    accuracy                           0.69       359\n",
      "   macro avg       0.06      0.05      0.05       359\n",
      "weighted avg       0.62      0.69      0.65       359\n",
      "\n"
     ]
    },
    {
     "name": "stderr",
     "output_type": "stream",
     "text": [
      "C:\\Users\\simra\\anaconda3\\lib\\site-packages\\sklearn\\metrics\\_classification.py:1308: UndefinedMetricWarning: Precision and F-score are ill-defined and being set to 0.0 in labels with no predicted samples. Use `zero_division` parameter to control this behavior.\n",
      "  _warn_prf(average, modifier, msg_start, len(result))\n",
      "C:\\Users\\simra\\anaconda3\\lib\\site-packages\\sklearn\\metrics\\_classification.py:1308: UndefinedMetricWarning: Recall and F-score are ill-defined and being set to 0.0 in labels with no true samples. Use `zero_division` parameter to control this behavior.\n",
      "  _warn_prf(average, modifier, msg_start, len(result))\n",
      "C:\\Users\\simra\\anaconda3\\lib\\site-packages\\sklearn\\metrics\\_classification.py:1308: UndefinedMetricWarning: Precision and F-score are ill-defined and being set to 0.0 in labels with no predicted samples. Use `zero_division` parameter to control this behavior.\n",
      "  _warn_prf(average, modifier, msg_start, len(result))\n",
      "C:\\Users\\simra\\anaconda3\\lib\\site-packages\\sklearn\\metrics\\_classification.py:1308: UndefinedMetricWarning: Recall and F-score are ill-defined and being set to 0.0 in labels with no true samples. Use `zero_division` parameter to control this behavior.\n",
      "  _warn_prf(average, modifier, msg_start, len(result))\n",
      "C:\\Users\\simra\\anaconda3\\lib\\site-packages\\sklearn\\metrics\\_classification.py:1308: UndefinedMetricWarning: Precision and F-score are ill-defined and being set to 0.0 in labels with no predicted samples. Use `zero_division` parameter to control this behavior.\n",
      "  _warn_prf(average, modifier, msg_start, len(result))\n",
      "C:\\Users\\simra\\anaconda3\\lib\\site-packages\\sklearn\\metrics\\_classification.py:1308: UndefinedMetricWarning: Recall and F-score are ill-defined and being set to 0.0 in labels with no true samples. Use `zero_division` parameter to control this behavior.\n",
      "  _warn_prf(average, modifier, msg_start, len(result))\n"
     ]
    }
   ],
   "source": [
    "print(classification_report(y_test,y_rf))"
   ]
  },
  {
   "cell_type": "markdown",
   "id": "966c389f",
   "metadata": {},
   "source": [
    "4. Perceptron Learning"
   ]
  },
  {
   "cell_type": "code",
   "execution_count": 95,
   "id": "ed5f8297",
   "metadata": {},
   "outputs": [
    {
     "data": {
      "text/plain": [
       "Perceptron(random_state=42)"
      ]
     },
     "execution_count": 95,
     "metadata": {},
     "output_type": "execute_result"
    }
   ],
   "source": [
    "from sklearn.linear_model import Perceptron\n",
    "\n",
    "model1=Perceptron(eta0=1.0,max_iter=1000,tol=1e-3,random_state=42)\n",
    "model1.fit(X_train, y_train)"
   ]
  },
  {
   "cell_type": "code",
   "execution_count": 96,
   "id": "d3442507",
   "metadata": {},
   "outputs": [
    {
     "data": {
      "text/plain": [
       "array(['US', 'US', 'US', 'US', 'US', 'US', 'RU', 'RU', 'RU', 'US', 'US',\n",
       "       'US', 'US', 'US', 'US', 'US', 'US', 'US', 'US', 'US', 'US', 'RU',\n",
       "       'US', 'US', 'US', 'US', 'RU', 'RU', 'US', 'US', 'US', 'US', 'RU',\n",
       "       'US', 'RU', 'US', 'RU', 'US', 'US', 'US', 'US', 'US', 'RU', 'US',\n",
       "       'US', 'US', 'US', 'US', 'US', 'RU', 'US', 'US', 'US', 'US', 'US',\n",
       "       'US', 'US', 'RU', 'US', 'RU', 'US', 'US', 'US', 'US', 'US', 'US',\n",
       "       'US', 'US', 'US', 'US', 'US', 'RU', 'US', 'US', 'US', 'US', 'RU',\n",
       "       'US', 'US', 'US', 'US', 'US', 'US', 'US', 'US', 'US', 'US', 'US',\n",
       "       'US', 'US', 'US', 'US', 'US', 'US', 'US', 'US', 'US', 'US', 'US',\n",
       "       'US', 'US', 'US', 'US', 'US', 'US', 'US', 'US', 'US', 'US', 'US',\n",
       "       'IN', 'RU', 'RU', 'US', 'RU', 'US', 'US', 'US', 'US', 'US', 'US',\n",
       "       'US', 'US', 'US', 'US', 'US', 'US', 'US', 'RU', 'US', 'US', 'US',\n",
       "       'US', 'US', 'RU', 'US', 'US', 'US', 'US', 'US', 'US', 'RU', 'US',\n",
       "       'US', 'US', 'US', 'US', 'US', 'US', 'US', 'RU', 'US', 'US', 'US',\n",
       "       'US', 'US', 'US', 'US', 'US', 'US', 'US', 'US', 'US', 'US', 'US',\n",
       "       'US', 'US', 'US', 'RU', 'US', 'US', 'US', 'US', 'US', 'RU', 'US',\n",
       "       'US', 'US', 'US', 'US', 'US', 'US', 'US', 'US', 'US', 'RU', 'US',\n",
       "       'US', 'US', 'US', 'US', 'US', 'US', 'US', 'US', 'US', 'US', 'US',\n",
       "       'US', 'RU', 'US', 'RU', 'US', 'US', 'US', 'US', 'RU', 'US', 'US',\n",
       "       'RU', 'US', 'US', 'RU', 'US', 'RU', 'US', 'US', 'US', 'US', 'US',\n",
       "       'RU', 'RU', 'US', 'RU', 'US', 'US', 'US', 'US', 'US', 'US', 'RU',\n",
       "       'US', 'RU', 'US', 'US', 'US', 'US', 'US', 'US', 'US', 'US', 'US',\n",
       "       'US', 'US', 'US', 'RU', 'US', 'US', 'US', 'US', 'US', 'US', 'US',\n",
       "       'US', 'RU', 'US', 'US', 'US', 'US', 'US', 'RU', 'US', 'US', 'US',\n",
       "       'US', 'US', 'US', 'US', 'US', 'RU', 'US', 'RU', 'US', 'US', 'US',\n",
       "       'US', 'US', 'US', 'US', 'US', 'US', 'RU', 'US', 'US', 'RU', 'US',\n",
       "       'US', 'US', 'US', 'RU', 'US', 'RU', 'US', 'RU', 'US', 'US', 'US',\n",
       "       'US', 'US', 'US', 'US', 'US', 'US', 'US', 'US', 'US', 'US', 'US',\n",
       "       'US', 'US', 'US', 'US', 'US', 'US', 'US', 'RU', 'US', 'US', 'RU',\n",
       "       'US', 'US', 'US', 'RU', 'US', 'US', 'US', 'US', 'RU', 'US', 'US',\n",
       "       'US', 'US', 'RU', 'US', 'US', 'US', 'US', 'US', 'US', 'US', 'US',\n",
       "       'RU', 'US', 'US', 'US', 'US', 'US', 'IN', 'US', 'US', 'RU', 'US',\n",
       "       'US', 'US', 'US', 'RU', 'RU', 'US', 'US'], dtype='<U2')"
      ]
     },
     "execution_count": 96,
     "metadata": {},
     "output_type": "execute_result"
    }
   ],
   "source": [
    "y_per = model1.predict(X_test)\n",
    "y_per"
   ]
  },
  {
   "cell_type": "code",
   "execution_count": 97,
   "id": "8b718c00",
   "metadata": {},
   "outputs": [
    {
     "name": "stdout",
     "output_type": "stream",
     "text": [
      "[[  0   0   0 ...   0   3   0]\n",
      " [  0   0   0 ...   0   1   0]\n",
      " [  0   0   0 ...   0   3   0]\n",
      " ...\n",
      " [  0   0   0 ...   0   0   0]\n",
      " [  0   0   0 ...   0 235   0]\n",
      " [  0   0   0 ...   0   0   0]]\n"
     ]
    }
   ],
   "source": [
    "print(confusion_matrix(y_test,y_per))"
   ]
  },
  {
   "cell_type": "code",
   "execution_count": 98,
   "id": "1a4aef28",
   "metadata": {},
   "outputs": [
    {
     "name": "stderr",
     "output_type": "stream",
     "text": [
      "C:\\Users\\simra\\anaconda3\\lib\\site-packages\\sklearn\\metrics\\_classification.py:1308: UndefinedMetricWarning: Precision and F-score are ill-defined and being set to 0.0 in labels with no predicted samples. Use `zero_division` parameter to control this behavior.\n",
      "  _warn_prf(average, modifier, msg_start, len(result))\n",
      "C:\\Users\\simra\\anaconda3\\lib\\site-packages\\sklearn\\metrics\\_classification.py:1308: UndefinedMetricWarning: Recall and F-score are ill-defined and being set to 0.0 in labels with no true samples. Use `zero_division` parameter to control this behavior.\n",
      "  _warn_prf(average, modifier, msg_start, len(result))\n"
     ]
    },
    {
     "name": "stdout",
     "output_type": "stream",
     "text": [
      "              precision    recall  f1-score   support\n",
      "\n",
      "          AE       0.00      0.00      0.00         3\n",
      "          AT       0.00      0.00      0.00         2\n",
      "          AU       0.00      0.00      0.00         5\n",
      "          BE       0.00      0.00      0.00         3\n",
      "          BO       0.00      0.00      0.00         3\n",
      "          BR       0.00      0.00      0.00         4\n",
      "          CA       0.00      0.00      0.00        10\n",
      "          DE       0.00      0.00      0.00         6\n",
      "          EG       0.00      0.00      0.00         1\n",
      "          ES       0.00      0.00      0.00         6\n",
      "          FR       0.00      0.00      0.00         2\n",
      "          GB       0.00      0.00      0.00        34\n",
      "          GR       0.00      0.00      0.00         3\n",
      "          HN       0.00      0.00      0.00         1\n",
      "          HU       0.00      0.00      0.00         1\n",
      "          ID       0.00      0.00      0.00         1\n",
      "          IE       0.00      0.00      0.00         1\n",
      "          IN       1.00      0.14      0.25        14\n",
      "          LU       0.00      0.00      0.00         1\n",
      "          MD       0.00      0.00      0.00         1\n",
      "          MT       0.00      0.00      0.00         1\n",
      "          NG       0.00      0.00      0.00         1\n",
      "          NL       0.00      0.00      0.00         1\n",
      "          PH       0.00      0.00      0.00         1\n",
      "          PK       0.00      0.00      0.00         1\n",
      "          PL       0.00      0.00      0.00         1\n",
      "          PR       0.00      0.00      0.00         2\n",
      "          PT       0.00      0.00      0.00         5\n",
      "          RU       0.00      0.00      0.00         0\n",
      "          SG       0.00      0.00      0.00         1\n",
      "          TR       0.00      0.00      0.00         1\n",
      "          US       0.78      0.98      0.87       241\n",
      "          VN       0.00      0.00      0.00         1\n",
      "\n",
      "    accuracy                           0.66       359\n",
      "   macro avg       0.05      0.03      0.03       359\n",
      "weighted avg       0.56      0.66      0.59       359\n",
      "\n"
     ]
    },
    {
     "name": "stderr",
     "output_type": "stream",
     "text": [
      "C:\\Users\\simra\\anaconda3\\lib\\site-packages\\sklearn\\metrics\\_classification.py:1308: UndefinedMetricWarning: Precision and F-score are ill-defined and being set to 0.0 in labels with no predicted samples. Use `zero_division` parameter to control this behavior.\n",
      "  _warn_prf(average, modifier, msg_start, len(result))\n",
      "C:\\Users\\simra\\anaconda3\\lib\\site-packages\\sklearn\\metrics\\_classification.py:1308: UndefinedMetricWarning: Recall and F-score are ill-defined and being set to 0.0 in labels with no true samples. Use `zero_division` parameter to control this behavior.\n",
      "  _warn_prf(average, modifier, msg_start, len(result))\n",
      "C:\\Users\\simra\\anaconda3\\lib\\site-packages\\sklearn\\metrics\\_classification.py:1308: UndefinedMetricWarning: Precision and F-score are ill-defined and being set to 0.0 in labels with no predicted samples. Use `zero_division` parameter to control this behavior.\n",
      "  _warn_prf(average, modifier, msg_start, len(result))\n",
      "C:\\Users\\simra\\anaconda3\\lib\\site-packages\\sklearn\\metrics\\_classification.py:1308: UndefinedMetricWarning: Recall and F-score are ill-defined and being set to 0.0 in labels with no true samples. Use `zero_division` parameter to control this behavior.\n",
      "  _warn_prf(average, modifier, msg_start, len(result))\n"
     ]
    }
   ],
   "source": [
    "print(classification_report(y_test,y_per))"
   ]
  },
  {
   "cell_type": "markdown",
   "id": "03c614b4",
   "metadata": {},
   "source": [
    "5. Multilayer Perceptron"
   ]
  },
  {
   "cell_type": "code",
   "execution_count": 99,
   "id": "dc340720",
   "metadata": {},
   "outputs": [
    {
     "data": {
      "text/plain": [
       "MLPClassifier(hidden_layer_sizes=(10, 10, 10), max_iter=1000)"
      ]
     },
     "execution_count": 99,
     "metadata": {},
     "output_type": "execute_result"
    }
   ],
   "source": [
    "from sklearn.neural_network import MLPClassifier\n",
    "\n",
    "mlp=MLPClassifier(hidden_layer_sizes=(10, 10, 10), max_iter=1000)\n",
    "mlp.fit(X_train, y_train)"
   ]
  },
  {
   "cell_type": "code",
   "execution_count": 100,
   "id": "e5864282",
   "metadata": {},
   "outputs": [
    {
     "name": "stdout",
     "output_type": "stream",
     "text": [
      "              precision    recall  f1-score   support\n",
      "\n",
      "          AE       0.00      0.00      0.00         3\n",
      "          AT       0.00      0.00      0.00         2\n",
      "          AU       0.00      0.00      0.00         5\n",
      "          BE       0.00      0.00      0.00         3\n",
      "          BO       0.00      0.00      0.00         3\n",
      "          BR       0.00      0.00      0.00         4\n",
      "          CA       0.00      0.00      0.00        10\n",
      "          DE       0.00      0.00      0.00         6\n",
      "          EG       0.00      0.00      0.00         1\n",
      "          ES       0.00      0.00      0.00         6\n",
      "          FR       0.00      0.00      0.00         2\n",
      "          GB       0.00      0.00      0.00        34\n",
      "          GR       0.00      0.00      0.00         3\n",
      "          HN       0.00      0.00      0.00         1\n",
      "          HU       0.00      0.00      0.00         1\n",
      "          ID       0.00      0.00      0.00         1\n",
      "          IE       0.00      0.00      0.00         1\n",
      "          IN       0.29      0.29      0.29        14\n",
      "          JE       0.00      0.00      0.00         0\n",
      "          LU       0.00      0.00      0.00         1\n",
      "          MD       0.00      0.00      0.00         1\n",
      "          MT       0.00      0.00      0.00         1\n",
      "          NG       0.00      0.00      0.00         1\n",
      "          NL       0.00      0.00      0.00         1\n",
      "          PH       0.00      0.00      0.00         1\n",
      "          PK       0.00      0.00      0.00         1\n",
      "          PL       0.00      0.00      0.00         1\n",
      "          PR       0.00      0.00      0.00         2\n",
      "          PT       0.00      0.00      0.00         5\n",
      "          SG       0.00      0.00      0.00         1\n",
      "          TR       0.00      0.00      0.00         1\n",
      "          US       0.70      0.89      0.78       241\n",
      "          VN       0.00      0.00      0.00         1\n",
      "\n",
      "    accuracy                           0.61       359\n",
      "   macro avg       0.03      0.04      0.03       359\n",
      "weighted avg       0.48      0.61      0.54       359\n",
      "\n"
     ]
    },
    {
     "name": "stderr",
     "output_type": "stream",
     "text": [
      "C:\\Users\\simra\\anaconda3\\lib\\site-packages\\sklearn\\metrics\\_classification.py:1308: UndefinedMetricWarning: Precision and F-score are ill-defined and being set to 0.0 in labels with no predicted samples. Use `zero_division` parameter to control this behavior.\n",
      "  _warn_prf(average, modifier, msg_start, len(result))\n",
      "C:\\Users\\simra\\anaconda3\\lib\\site-packages\\sklearn\\metrics\\_classification.py:1308: UndefinedMetricWarning: Recall and F-score are ill-defined and being set to 0.0 in labels with no true samples. Use `zero_division` parameter to control this behavior.\n",
      "  _warn_prf(average, modifier, msg_start, len(result))\n",
      "C:\\Users\\simra\\anaconda3\\lib\\site-packages\\sklearn\\metrics\\_classification.py:1308: UndefinedMetricWarning: Precision and F-score are ill-defined and being set to 0.0 in labels with no predicted samples. Use `zero_division` parameter to control this behavior.\n",
      "  _warn_prf(average, modifier, msg_start, len(result))\n",
      "C:\\Users\\simra\\anaconda3\\lib\\site-packages\\sklearn\\metrics\\_classification.py:1308: UndefinedMetricWarning: Recall and F-score are ill-defined and being set to 0.0 in labels with no true samples. Use `zero_division` parameter to control this behavior.\n",
      "  _warn_prf(average, modifier, msg_start, len(result))\n",
      "C:\\Users\\simra\\anaconda3\\lib\\site-packages\\sklearn\\metrics\\_classification.py:1308: UndefinedMetricWarning: Precision and F-score are ill-defined and being set to 0.0 in labels with no predicted samples. Use `zero_division` parameter to control this behavior.\n",
      "  _warn_prf(average, modifier, msg_start, len(result))\n",
      "C:\\Users\\simra\\anaconda3\\lib\\site-packages\\sklearn\\metrics\\_classification.py:1308: UndefinedMetricWarning: Recall and F-score are ill-defined and being set to 0.0 in labels with no true samples. Use `zero_division` parameter to control this behavior.\n",
      "  _warn_prf(average, modifier, msg_start, len(result))\n"
     ]
    }
   ],
   "source": [
    "y_mlp = mlp.predict(X_test)\n",
    "print(classification_report(y_test, y_mlp))"
   ]
  },
  {
   "cell_type": "markdown",
   "id": "0db0fa10",
   "metadata": {},
   "source": [
    "6. CatBoost"
   ]
  },
  {
   "cell_type": "code",
   "execution_count": 103,
   "id": "2de0ad0e",
   "metadata": {},
   "outputs": [
    {
     "name": "stdout",
     "output_type": "stream",
     "text": [
      "CatBoost model is fitted: True\n",
      "CatBoost model parameters:\n",
      "{'iterations': 5, 'learning_rate': 0.1}\n"
     ]
    }
   ],
   "source": [
    "from catboost import CatBoostClassifier\n",
    "\n",
    "clf = CatBoostClassifier(\n",
    "    iterations=5, \n",
    "    learning_rate=0.1, \n",
    "    #loss_function='CrossEntropy'\n",
    ")\n",
    "\n",
    "\n",
    "clf.fit(X_train, y_train,  \n",
    "        verbose=False\n",
    ")\n",
    "\n",
    "print('CatBoost model is fitted: ' + str(clf.is_fitted()))\n",
    "print('CatBoost model parameters:')\n",
    "print(clf.get_params())"
   ]
  },
  {
   "cell_type": "code",
   "execution_count": 104,
   "id": "82fbf656",
   "metadata": {},
   "outputs": [
    {
     "name": "stdout",
     "output_type": "stream",
     "text": [
      "              precision    recall  f1-score   support\n",
      "\n",
      "          AE       0.00      0.00      0.00         3\n",
      "          AT       0.00      0.00      0.00         2\n",
      "          AU       0.00      0.00      0.00         5\n",
      "          BE       0.00      0.00      0.00         3\n",
      "          BO       0.00      0.00      0.00         3\n",
      "          BR       0.00      0.00      0.00         4\n",
      "          CA       0.00      0.00      0.00        10\n",
      "          DE       0.00      0.00      0.00         6\n",
      "          EG       0.00      0.00      0.00         1\n",
      "          ES       0.00      0.00      0.00         6\n",
      "          FR       0.00      0.00      0.00         2\n",
      "          GB       0.42      0.15      0.22        34\n",
      "          GR       0.00      0.00      0.00         3\n",
      "          HN       0.00      0.00      0.00         1\n",
      "          HU       0.00      0.00      0.00         1\n",
      "          ID       0.00      0.00      0.00         1\n",
      "          IE       0.00      0.00      0.00         1\n",
      "          IN       0.33      0.57      0.42        14\n",
      "          LU       0.00      0.00      0.00         1\n",
      "          MD       0.00      0.00      0.00         1\n",
      "          MT       0.00      0.00      0.00         1\n",
      "          NG       0.00      0.00      0.00         1\n",
      "          NL       0.00      0.00      0.00         1\n",
      "          PH       0.00      0.00      0.00         1\n",
      "          PK       0.00      0.00      0.00         1\n",
      "          PL       0.00      0.00      0.00         1\n",
      "          PR       0.00      0.00      0.00         2\n",
      "          PT       0.00      0.00      0.00         5\n",
      "          SG       0.00      0.00      0.00         1\n",
      "          TR       0.00      0.00      0.00         1\n",
      "          US       0.74      1.00      0.85       241\n",
      "          VN       0.00      0.00      0.00         1\n",
      "\n",
      "    accuracy                           0.70       359\n",
      "   macro avg       0.05      0.05      0.05       359\n",
      "weighted avg       0.55      0.70      0.61       359\n",
      "\n"
     ]
    },
    {
     "name": "stderr",
     "output_type": "stream",
     "text": [
      "C:\\Users\\simra\\anaconda3\\lib\\site-packages\\sklearn\\metrics\\_classification.py:1308: UndefinedMetricWarning: Precision and F-score are ill-defined and being set to 0.0 in labels with no predicted samples. Use `zero_division` parameter to control this behavior.\n",
      "  _warn_prf(average, modifier, msg_start, len(result))\n",
      "C:\\Users\\simra\\anaconda3\\lib\\site-packages\\sklearn\\metrics\\_classification.py:1308: UndefinedMetricWarning: Precision and F-score are ill-defined and being set to 0.0 in labels with no predicted samples. Use `zero_division` parameter to control this behavior.\n",
      "  _warn_prf(average, modifier, msg_start, len(result))\n",
      "C:\\Users\\simra\\anaconda3\\lib\\site-packages\\sklearn\\metrics\\_classification.py:1308: UndefinedMetricWarning: Precision and F-score are ill-defined and being set to 0.0 in labels with no predicted samples. Use `zero_division` parameter to control this behavior.\n",
      "  _warn_prf(average, modifier, msg_start, len(result))\n"
     ]
    }
   ],
   "source": [
    "y_cb = clf.predict(X_test)\n",
    "print(classification_report(y_test, y_cb))"
   ]
  },
  {
   "cell_type": "code",
   "execution_count": null,
   "id": "800fae90",
   "metadata": {},
   "outputs": [],
   "source": []
  }
 ],
 "metadata": {
  "kernelspec": {
   "display_name": "Python 3",
   "language": "python",
   "name": "python3"
  },
  "language_info": {
   "codemirror_mode": {
    "name": "ipython",
    "version": 3
   },
   "file_extension": ".py",
   "mimetype": "text/x-python",
   "name": "python",
   "nbconvert_exporter": "python",
   "pygments_lexer": "ipython3",
   "version": "3.8.8"
  }
 },
 "nbformat": 4,
 "nbformat_minor": 5
}
